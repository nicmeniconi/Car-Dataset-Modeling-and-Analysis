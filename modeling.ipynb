{
 "cells": [
  {
   "cell_type": "markdown",
   "metadata": {},
   "source": [
    "# What drives the price of a car?\n",
    "\n",
    "![](images/kurt.jpeg)"
   ]
  },
  {
   "cell_type": "code",
   "execution_count": 71,
   "metadata": {},
   "outputs": [],
   "source": [
    "import pandas as pd\n",
    "import seaborn as sns\n",
    "import numpy as np\n",
    "import matplotlib.pyplot as plt\n",
    "import json\n",
    "import joblib\n",
    "import pickle \n",
    "\n",
    "from sklearn.pipeline import Pipeline\n",
    "from sklearn.impute import SimpleImputer\n",
    "from sklearn.preprocessing import StandardScaler, PolynomialFeatures, OneHotEncoder, OrdinalEncoder, FunctionTransformer\n",
    "from sklearn.linear_model import LinearRegression, LogisticRegression, Lasso, Ridge\n",
    "from sklearn.model_selection import train_test_split\n",
    "from sklearn.metrics import mean_squared_error\n",
    "from sklearn.compose import ColumnTransformer, make_column_transformer, make_column_selector\n",
    "from sklearn import set_config\n",
    "from sklearn.feature_selection import SequentialFeatureSelector\n",
    "\n",
    "set_config(display=\"diagram\") #setting this will display your pipelines as seen above"
   ]
  },
  {
   "cell_type": "markdown",
   "metadata": {},
   "source": [
    "# Pre-Processing"
   ]
  },
  {
   "cell_type": "markdown",
   "metadata": {},
   "source": [
    "#### Import and prepare preprocessed data"
   ]
  },
  {
   "cell_type": "code",
   "execution_count": 74,
   "metadata": {},
   "outputs": [
    {
     "name": "stdout",
     "output_type": "stream",
     "text": [
      "Done downloading\n"
     ]
    }
   ],
   "source": [
    "training = pd.read_csv('data/training.csv').reset_index(drop=True)\n",
    "testing = pd.read_csv('data/testing.csv').reset_index(drop=True)  \n",
    "print('Done downloading')"
   ]
  },
  {
   "cell_type": "code",
   "execution_count": 75,
   "metadata": {},
   "outputs": [
    {
     "name": "stdout",
     "output_type": "stream",
     "text": [
      "<class 'pandas.core.frame.DataFrame'>\n",
      "RangeIndex: 308225 entries, 0 to 308224\n",
      "Data columns (total 19 columns):\n",
      " #   Column             Non-Null Count   Dtype  \n",
      "---  ------             --------------   -----  \n",
      " 0   region             308225 non-null  object \n",
      " 1   price              308225 non-null  int64  \n",
      " 2   year               308225 non-null  float64\n",
      " 3   manufacturer       308225 non-null  object \n",
      " 4   model              308225 non-null  object \n",
      " 5   fuel               308225 non-null  object \n",
      " 6   odometer           308225 non-null  float64\n",
      " 7   title_status       308225 non-null  object \n",
      " 8   transmission       308225 non-null  object \n",
      " 9   state              308225 non-null  object \n",
      " 10  cylinders_imputed  308225 non-null  object \n",
      " 11  condition_ranked   308225 non-null  float64\n",
      " 12  condition_imputed  308225 non-null  object \n",
      " 13  drive_imputed      308225 non-null  object \n",
      " 14  type_imputed       308225 non-null  object \n",
      " 15  state_lat          308225 non-null  float64\n",
      " 16  state_lon          308225 non-null  float64\n",
      " 17  region_lat         308225 non-null  float64\n",
      " 18  region_lon         308225 non-null  float64\n",
      "dtypes: float64(7), int64(1), object(11)\n",
      "memory usage: 44.7+ MB\n"
     ]
    }
   ],
   "source": [
    "training.info()"
   ]
  },
  {
   "cell_type": "code",
   "execution_count": 76,
   "metadata": {},
   "outputs": [],
   "source": [
    "training.drop(columns=['region','state','condition_ranked'], inplace=True)\n",
    "testing.drop(columns=['region','state','condition_ranked'],inplace=True)"
   ]
  },
  {
   "cell_type": "code",
   "execution_count": 77,
   "metadata": {},
   "outputs": [],
   "source": [
    "training.rename(columns={\n",
    "    'cylinders_imputed':'cylinders',\n",
    "    'condition_imputed':'condition',\n",
    "    'drive_imputed':'drive',\n",
    "    'type_imputed':'type'},\n",
    "inplace=True)\n",
    "\n",
    "testing.rename(columns={\n",
    "    'cylinders_imputed':'cylinders',\n",
    "    'condition_imputed':'condition',\n",
    "    'drive_imputed':'drive',\n",
    "    'type_imputed':'type'},\n",
    "inplace=True)"
   ]
  },
  {
   "cell_type": "code",
   "execution_count": 78,
   "metadata": {},
   "outputs": [
    {
     "name": "stdout",
     "output_type": "stream",
     "text": [
      "['gas' 'other' 'diesel' 'hybrid' 'electric']\n",
      "['clean' 'rebuilt' 'salvage' 'lien' 'missing' 'parts only']\n",
      "['automatic' 'other' 'manual']\n",
      "['8 cylinders' '6 cylinders' '4 cylinders' '5 cylinders' 'other'\n",
      " '3 cylinders' '10 cylinders' '12 cylinders']\n",
      "['good' 'excellent' 'like new' 'fair' 'salvage' 'new']\n",
      "['4wd' 'fwd' 'rwd']\n",
      "['truck' 'suv' 'sedan' 'coupe' 'other' 'pickup' 'bus' 'van' 'hatchback'\n",
      " 'wagon' 'convertible']\n"
     ]
    }
   ],
   "source": [
    "print(training['fuel'].unique())\n",
    "print(training['title_status'].unique())\n",
    "print(training['transmission'].unique())\n",
    "print(training['cylinders'].unique())\n",
    "print(training['condition'].unique())\n",
    "print(training['drive'].unique())\n",
    "print(training['type'].unique())"
   ]
  },
  {
   "cell_type": "code",
   "execution_count": 79,
   "metadata": {},
   "outputs": [],
   "source": [
    "fuel_order = ['gas', 'diesel', 'hybrid', 'electric', 'other']\n",
    "title_status_order = ['clean', 'rebuilt', 'lien', 'salvage', 'missing', 'parts only']\n",
    "transmission_order = ['automatic', 'manual', 'other']\n",
    "cylinders_order = ['4 cylinders', '6 cylinders', '8 cylinders', '5 cylinders', '3 cylinders', '10 cylinders', '12 cylinders', 'other']\n",
    "condition_order = ['new', 'like new', 'excellent', 'good', 'fair', 'salvage']\n",
    "drive_order = ['4wd', 'fwd', 'rwd']\n",
    "type_order = ['sedan', 'suv', 'truck', 'coupe', 'pickup', 'hatchback', 'wagon', 'convertible', 'van', 'bus', 'other']"
   ]
  },
  {
   "cell_type": "code",
   "execution_count": 80,
   "metadata": {},
   "outputs": [],
   "source": [
    "ordinal_mappings = {\n",
    "    'fuel': fuel_order,\n",
    "    'title_status': title_status_order,\n",
    "    'transmission': transmission_order,\n",
    "    'cylinders': cylinders_order,\n",
    "    'condition': condition_order,\n",
    "    'drive': drive_order,\n",
    "    'type': type_order\n",
    "}\n",
    "\n",
    "def ordinal_encode_column(df, column, order):\n",
    "    df[column] = df[column].apply(lambda x: order.index(x) if x in order else None)\n",
    "    return df\n",
    "\n",
    "for col, order in ordinal_mappings.items():\n",
    "    training = ordinal_encode_column(training, col, order)\n",
    "    testing = ordinal_encode_column(testing, col, order)"
   ]
  },
  {
   "cell_type": "code",
   "execution_count": 81,
   "metadata": {},
   "outputs": [],
   "source": [
    "training.drop(columns='model', inplace=True)\n",
    "testing.drop(columns='model', inplace=True)"
   ]
  },
  {
   "cell_type": "code",
   "execution_count": 82,
   "metadata": {},
   "outputs": [
    {
     "name": "stdout",
     "output_type": "stream",
     "text": [
      "Categoical:\n",
      "manufacturer\n",
      "\n",
      "Numerical:\n",
      "year\n",
      "fuel\n",
      "odometer\n",
      "title_status\n",
      "transmission\n",
      "cylinders\n",
      "condition\n",
      "drive\n",
      "type\n",
      "state_lat\n",
      "state_lon\n",
      "region_lat\n",
      "region_lon\n"
     ]
    }
   ],
   "source": [
    "categorical_columns = training.select_dtypes(include=['object', 'category']).columns.tolist()\n",
    "numerical_columns = training.select_dtypes(include=['number']).columns.tolist()\n",
    "numerical_columns.remove('price')\n",
    "\n",
    "print('Categoical:')\n",
    "for cat in categorical_columns:\n",
    "    print(cat)\n",
    "print('\\nNumerical:')\n",
    "for num in numerical_columns:\n",
    "    print(num)"
   ]
  },
  {
   "cell_type": "markdown",
   "metadata": {},
   "source": [
    "### Baseline Error"
   ]
  },
  {
   "cell_type": "code",
   "execution_count": 84,
   "metadata": {},
   "outputs": [],
   "source": [
    "X_train = training.drop('price', axis=1)\n",
    "y_train = training['price']\n",
    "\n",
    "X_test = testing.drop('price', axis=1)\n",
    "y_test = testing['price']\n",
    "\n",
    "Xnum_train = X_train[numerical_columns]\n",
    "Xnum_test = X_test[numerical_columns]\n",
    "\n",
    "#log_scaling\n",
    "y_train = np.log1p(y_train)\n",
    "y_test = np.log1p(y_test)"
   ]
  },
  {
   "cell_type": "code",
   "execution_count": 85,
   "metadata": {},
   "outputs": [
    {
     "name": "stdout",
     "output_type": "stream",
     "text": [
      "Baseline for training data: 7.41\n",
      "Baseline for testing data: 7.32\n"
     ]
    }
   ],
   "source": [
    "mean_train = y_train.mean()\n",
    "mean_test = y_test.mean()\n",
    "\n",
    "baseline_train = np.full(y_train.shape,mean_train)\n",
    "baseline_test = np.full(y_test.shape, mean_test)\n",
    "mse_baseline_train = mean_squared_error(baseline_train, y_train)\n",
    "mse_baseline_test = mean_squared_error(baseline_test, y_test)\n",
    "\n",
    "print(f'Baseline for training data: {mse_baseline_train:.2f}')\n",
    "print(f'Baseline for testing data: {mse_baseline_test:.2f}')"
   ]
  },
  {
   "cell_type": "code",
   "execution_count": 86,
   "metadata": {},
   "outputs": [
    {
     "data": {
      "text/plain": [
       "['data/mse_baseline.pkl']"
      ]
     },
     "execution_count": 86,
     "metadata": {},
     "output_type": "execute_result"
    }
   ],
   "source": [
    "joblib.dump([mse_baseline_train, mse_baseline_test], 'data/mse_baseline.pkl')"
   ]
  },
  {
   "cell_type": "markdown",
   "metadata": {},
   "source": [
    "### LinReg on highest correlation feature"
   ]
  },
  {
   "cell_type": "code",
   "execution_count": 88,
   "metadata": {},
   "outputs": [
    {
     "name": "stdout",
     "output_type": "stream",
     "text": [
      "condition\n",
      "Index(['condition', 'type', 'cylinders', 'region_lon', 'state_lon'], dtype='object')\n"
     ]
    }
   ],
   "source": [
    "numeric_train = training.select_dtypes(include=[np.number])\n",
    "\n",
    "correlation_matrix = numeric_train.corr()\n",
    "\n",
    "highest_corr = correlation_matrix[['price']].nlargest(columns='price', n=2).index[1]\n",
    "print(highest_corr)\n",
    "\n",
    "n = 5 \n",
    "highest_corr_columns = correlation_matrix['price'].drop('price').nlargest(n).index\n",
    "\n",
    "print(highest_corr_columns)"
   ]
  },
  {
   "cell_type": "code",
   "execution_count": 89,
   "metadata": {},
   "outputs": [
    {
     "name": "stdout",
     "output_type": "stream",
     "text": [
      "Train MSE:          7.41\n",
      "Train Baseline MSE: 7.41\n",
      "\n",
      "Test MSE:          7.32\n",
      "Test Baseline MSE: 7.32\n",
      "\n",
      "Train MSE diff:    0.00\n",
      "Test MSE diff:     0.00\n"
     ]
    }
   ],
   "source": [
    "# Highest correlation \n",
    "X1 = X_train[[highest_corr]]\n",
    "pipeline = Pipeline([\n",
    "    ('scaler', StandardScaler()),  \n",
    "    ('model', LinearRegression())  \n",
    "])\n",
    "lr = pipeline.fit(X1, y_train)\n",
    "train_mse_highcorr = mean_squared_error(y_train, lr.predict(X1))\n",
    "test_mse_highcorr = mean_squared_error(y_test, lr.predict(X_test[[highest_corr]]))\n",
    "# Answer check\n",
    "print(f'Train MSE:         {train_mse_highcorr: .2f}')\n",
    "print(f'Train Baseline MSE: {mse_baseline_train:.2f}\\n')\n",
    "print(f'Test MSE:         {test_mse_highcorr: .2f}')\n",
    "print(f'Test Baseline MSE: {mse_baseline_test:.2f}\\n')\n",
    "print(f'Train MSE diff:   {mse_baseline_train-train_mse_highcorr: .2f}')\n",
    "print(f'Test MSE diff:    {mse_baseline_test-test_mse_highcorr: .2f}')"
   ]
  },
  {
   "cell_type": "code",
   "execution_count": 90,
   "metadata": {},
   "outputs": [
    {
     "data": {
      "text/plain": [
       "['data/mse_highcorr.pkl']"
      ]
     },
     "execution_count": 90,
     "metadata": {},
     "output_type": "execute_result"
    }
   ],
   "source": [
    "joblib.dump(lr, 'data/highcorr.pkl')\n",
    "joblib.dump([train_mse_highcorr, test_mse_highcorr], 'data/mse_highcorr.pkl')"
   ]
  },
  {
   "cell_type": "markdown",
   "metadata": {},
   "source": [
    "### LinReg on highest correlation feature"
   ]
  },
  {
   "cell_type": "code",
   "execution_count": 92,
   "metadata": {},
   "outputs": [],
   "source": [
    "# Highest correlation \n",
    "X1 = X_train[highest_corr_columns]\n",
    "pipeline = Pipeline([\n",
    "    ('scaler', StandardScaler()),  \n",
    "    ('model', LinearRegression()) \n",
    "])\n",
    "\n",
    "lr = pipeline.fit(X1, y_train)\n",
    "\n",
    "train_mse_highcorr_col = mean_squared_error(y_train, lr.predict(X1))\n",
    "test_mse_highcorr_col = mean_squared_error(y_test, lr.predict(X_test[highest_corr_columns]))"
   ]
  },
  {
   "cell_type": "code",
   "execution_count": 93,
   "metadata": {},
   "outputs": [
    {
     "name": "stdout",
     "output_type": "stream",
     "text": [
      "Train MSE:          7.35\n",
      "Train Baseline MSE: 7.41\n",
      "\n",
      "Test MSE:          7.27\n",
      "Test Baseline MSE: 7.32\n",
      "\n",
      "Train MSE diff:    0.06\n",
      "Test MSE diff:     0.05\n"
     ]
    }
   ],
   "source": [
    "print(f'Train MSE:         {train_mse_highcorr_col: .2f}')\n",
    "print(f'Train Baseline MSE: {mse_baseline_train:.2f}\\n')\n",
    "print(f'Test MSE:         {test_mse_highcorr_col: .2f}')\n",
    "print(f'Test Baseline MSE: {mse_baseline_test:.2f}\\n')\n",
    "print(f'Train MSE diff:   {mse_baseline_train-train_mse_highcorr_col: .2f}')\n",
    "print(f'Test MSE diff:    {mse_baseline_test-test_mse_highcorr_col: .2f}')"
   ]
  },
  {
   "cell_type": "code",
   "execution_count": 94,
   "metadata": {},
   "outputs": [
    {
     "data": {
      "text/plain": [
       "['data/mse_highcorrs.pkl']"
      ]
     },
     "execution_count": 94,
     "metadata": {},
     "output_type": "execute_result"
    }
   ],
   "source": [
    "joblib.dump(lr, 'data/highcorrs.pkl')\n",
    "joblib.dump([train_mse_highcorr_col, test_mse_highcorr_col], 'data/mse_highcorrs.pkl')"
   ]
  },
  {
   "cell_type": "markdown",
   "metadata": {},
   "source": [
    "### LinReg on numerical columns"
   ]
  },
  {
   "cell_type": "code",
   "execution_count": 96,
   "metadata": {},
   "outputs": [
    {
     "name": "stdout",
     "output_type": "stream",
     "text": [
      "Train MSE:          7.06\n",
      "Train Baseline MSE: 7.41\n",
      "\n",
      "Test MSE:           6.97\n",
      "Test Baseline MSE:  7.32\n",
      "\n",
      "Train MSE diff:     0.35\n",
      "Test MSE diff:      0.35\n"
     ]
    }
   ],
   "source": [
    "pipeline = Pipeline([\n",
    "    ('scaler', StandardScaler()),\n",
    "    ('model', LinearRegression()) \n",
    "])\n",
    "lr = pipeline.fit(Xnum_train, y_train)\n",
    "\n",
    "train_mse_numlr = mean_squared_error(y_train, lr.predict(Xnum_train))\n",
    "test_mse_numlr = mean_squared_error(y_test, lr.predict(Xnum_test))\n",
    "\n",
    "print(f'Train MSE:         {train_mse_numlr: .2f}')\n",
    "print(f'Train Baseline MSE: {mse_baseline_train:.2f}\\n')\n",
    "print(f'Test MSE:          {test_mse_numlr: .2f}')\n",
    "print(f'Test Baseline MSE:  {mse_baseline_test:.2f}\\n')\n",
    "print(f'Train MSE diff:    {mse_baseline_train-train_mse_numlr: .2f}')\n",
    "print(f'Test MSE diff:     {mse_baseline_test-test_mse_numlr: .2f}')"
   ]
  },
  {
   "cell_type": "code",
   "execution_count": 97,
   "metadata": {},
   "outputs": [
    {
     "data": {
      "text/plain": [
       "['data/mse_linreg.pkl']"
      ]
     },
     "execution_count": 97,
     "metadata": {},
     "output_type": "execute_result"
    }
   ],
   "source": [
    "joblib.dump(lr, 'data/linreg.pkl')\n",
    "joblib.dump([train_mse_numlr, test_mse_numlr], 'data/mse_linreg.pkl')"
   ]
  },
  {
   "cell_type": "code",
   "execution_count": 98,
   "metadata": {},
   "outputs": [
    {
     "name": "stdout",
     "output_type": "stream",
     "text": [
      "         Feature  Coefficient    Impact  Importance\n",
      "4   transmission     0.530939  Positive    0.530939\n",
      "12    region_lon     0.352072  Positive    0.352072\n",
      "10     state_lon    -0.324038  Negative    0.324038\n",
      "5      cylinders     0.159117  Positive    0.159117\n",
      "11    region_lat     0.156777  Positive    0.156777\n"
     ]
    }
   ],
   "source": [
    "coefficients = lr.named_steps['model'].coef_\n",
    "\n",
    "importance_df = pd.DataFrame({\n",
    "    'Feature': Xnum_train.columns,\n",
    "    'Coefficient': coefficients\n",
    "})\n",
    "\n",
    "importance_df['Impact'] = np.where(importance_df['Coefficient'] > 0, 'Positive', 'Negative')\n",
    "\n",
    "importance_df['Importance'] = np.abs(importance_df['Coefficient'])\n",
    "importance_df_sorted = importance_df.sort_values(by='Importance', ascending=False)\n",
    "\n",
    "# Display the top n most important features with their impact\n",
    "n = 5  \n",
    "print(importance_df_sorted.head(n))"
   ]
  },
  {
   "cell_type": "markdown",
   "metadata": {},
   "source": [
    "### Polynomial model with numerical data"
   ]
  },
  {
   "cell_type": "code",
   "execution_count": 100,
   "metadata": {},
   "outputs": [],
   "source": [
    "preprocessing = ColumnTransformer([\n",
    "    ('scaler', StandardScaler(), numerical_columns),\n",
    "    ('poly', PolynomialFeatures(degree=2), numerical_columns),\n",
    "])\n",
    "\n",
    "pipeline = Pipeline([\n",
    "    ('preprocessing', preprocessing),\n",
    "    ('model', LinearRegression())\n",
    "])\n",
    "\n",
    "pipe = pipeline.fit(Xnum_train, y_train)"
   ]
  },
  {
   "cell_type": "code",
   "execution_count": 101,
   "metadata": {},
   "outputs": [],
   "source": [
    "train_mse_polynum = mean_squared_error(y_train, pipe.predict(Xnum_train))\n",
    "test_mse_polynum = mean_squared_error(y_test, pipe.predict(Xnum_test))"
   ]
  },
  {
   "cell_type": "code",
   "execution_count": 102,
   "metadata": {},
   "outputs": [
    {
     "name": "stdout",
     "output_type": "stream",
     "text": [
      "Train MSE:          6.86\n",
      "Train Baseline MSE: 7.41\n",
      "\n",
      "Test MSE:           6.77\n",
      "Test Baseline MSE:  7.32\n",
      "\n",
      "Train MSE diff:     0.55\n",
      "Test MSE diff:      0.56\n"
     ]
    }
   ],
   "source": [
    "print(f'Train MSE:         {train_mse_polynum: .2f}')\n",
    "print(f'Train Baseline MSE: {mse_baseline_train:.2f}\\n')\n",
    "print(f'Test MSE:          {test_mse_polynum: .2f}')\n",
    "print(f'Test Baseline MSE:  {mse_baseline_test:.2f}\\n')\n",
    "print(f'Train MSE diff:    {mse_baseline_train-train_mse_polynum: .2f}')\n",
    "print(f'Test MSE diff:     {mse_baseline_test-test_mse_polynum: .2f}')"
   ]
  },
  {
   "cell_type": "code",
   "execution_count": 103,
   "metadata": {},
   "outputs": [
    {
     "data": {
      "text/plain": [
       "['data/mse_polynum.pkl']"
      ]
     },
     "execution_count": 103,
     "metadata": {},
     "output_type": "execute_result"
    }
   ],
   "source": [
    "joblib.dump(pipe, 'data/polynum.pkl')\n",
    "joblib.dump([train_mse_polynum, test_mse_polynum], 'data/mse_polynum.pkl')"
   ]
  },
  {
   "cell_type": "code",
   "execution_count": 104,
   "metadata": {},
   "outputs": [
    {
     "name": "stdout",
     "output_type": "stream",
     "text": [
      "Number of transformed features: 118\n",
      "Number of coefficients: 118\n",
      "                 Feature  Coefficient  Importance    Impact\n",
      "4   scaler__transmission   -18.035685   18.035685  Negative\n",
      "18    poly__transmission   -13.231355   13.231355  Negative\n",
      "25      poly__region_lat    -4.791949    4.791949  Negative\n",
      "15            poly__fuel    -4.623615    4.623615  Negative\n",
      "1           scaler__fuel    -4.294641    4.294641  Negative\n",
      "22            poly__type     3.733733    3.733733  Positive\n",
      "6      scaler__condition    -3.436129    3.436129  Negative\n",
      "8           scaler__type     2.917534    2.917534  Positive\n",
      "23       poly__state_lat     2.302460    2.302460  Positive\n",
      "20       poly__condition    -2.168317    2.168317  Negative\n"
     ]
    }
   ],
   "source": [
    "X_train_transformed = pipeline.named_steps['preprocessing'].transform(Xnum_train)\n",
    "\n",
    "transformed_feature_names = pipe.named_steps['preprocessing'].get_feature_names_out()\n",
    "\n",
    "coefficients = pipeline.named_steps['model'].coef_\n",
    "print(f\"Number of transformed features: {X_train_transformed.shape[1]}\")\n",
    "print(f\"Number of coefficients: {len(coefficients)}\")\n",
    "\n",
    "importance_df = pd.DataFrame({\n",
    "    'Feature': transformed_feature_names,\n",
    "    'Coefficient': coefficients\n",
    "})\n",
    "\n",
    "importance_df['Importance'] = np.abs(importance_df['Coefficient'])\n",
    "importance_df['Impact'] = np.where(importance_df['Coefficient'] > 0, 'Positive', 'Negative')\n",
    "\n",
    "importance_df_sorted = importance_df.sort_values(by='Importance', ascending=False)\n",
    "\n",
    "# Display the top n most important features\n",
    "n = 10 \n",
    "print(importance_df_sorted.head(n))"
   ]
  },
  {
   "cell_type": "markdown",
   "metadata": {},
   "source": [
    "### Polynomial model with OHE manufacturer"
   ]
  },
  {
   "cell_type": "code",
   "execution_count": 106,
   "metadata": {},
   "outputs": [],
   "source": [
    "preprocessing = ColumnTransformer([\n",
    "    ('scaler', StandardScaler(), numerical_columns),\n",
    "    ('poly', PolynomialFeatures(degree=2), numerical_columns),\n",
    "    ('ohe', OneHotEncoder(\n",
    "    ), categorical_columns)\n",
    "])\n",
    "\n",
    "pipeline = Pipeline([\n",
    "    ('preprocessing', preprocessing),\n",
    "    ('model', LinearRegression())\n",
    "])\n",
    "\n",
    "pipe = pipeline.fit(X_train, y_train)"
   ]
  },
  {
   "cell_type": "code",
   "execution_count": 107,
   "metadata": {},
   "outputs": [],
   "source": [
    "train_mse_poly = mean_squared_error(y_train, pipeline.predict(X_train))\n",
    "test_mse_poly = mean_squared_error(y_test, pipeline.predict(X_test))"
   ]
  },
  {
   "cell_type": "code",
   "execution_count": 108,
   "metadata": {},
   "outputs": [
    {
     "name": "stdout",
     "output_type": "stream",
     "text": [
      "Train MSE:          6.83\n",
      "Train Baseline MSE: 7.41\n",
      "\n",
      "Test MSE:           6.73\n",
      "Test Baseline MSE:  7.32\n",
      "\n",
      "Train MSE diff:     0.58\n",
      "Test MSE diff:      0.59\n"
     ]
    }
   ],
   "source": [
    "print(f'Train MSE:         {train_mse_poly: .2f}')\n",
    "print(f'Train Baseline MSE: {mse_baseline_train:.2f}\\n')\n",
    "print(f'Test MSE:          {test_mse_poly: .2f}')\n",
    "print(f'Test Baseline MSE:  {mse_baseline_test:.2f}\\n')\n",
    "print(f'Train MSE diff:    {mse_baseline_train-train_mse_poly: .2f}')\n",
    "print(f'Test MSE diff:     {mse_baseline_test-test_mse_poly: .2f}')"
   ]
  },
  {
   "cell_type": "code",
   "execution_count": 109,
   "metadata": {},
   "outputs": [
    {
     "data": {
      "text/plain": [
       "['data/mse_poly.pkl']"
      ]
     },
     "execution_count": 109,
     "metadata": {},
     "output_type": "execute_result"
    }
   ],
   "source": [
    "joblib.dump(pipe, 'data/poly.pkl')\n",
    "joblib.dump([train_mse_poly, test_mse_poly], 'data/mse_poly.pkl')"
   ]
  },
  {
   "cell_type": "code",
   "execution_count": 110,
   "metadata": {},
   "outputs": [
    {
     "name": "stdout",
     "output_type": "stream",
     "text": [
      "Number of transformed features: 159\n",
      "Number of coefficients: 159\n",
      "                          Feature  Coefficient  Importance    Impact\n",
      "4            scaler__transmission   -17.140931   17.140931  Negative\n",
      "18             poly__transmission   -12.574946   12.574946  Negative\n",
      "25               poly__region_lat    -4.632463    4.632463  Negative\n",
      "140  ohe__manufacturer_land rover    -4.230923    4.230923  Negative\n",
      "15                     poly__fuel    -4.188998    4.188998  Negative\n",
      "1                    scaler__fuel    -3.703044    3.703044  Negative\n",
      "22                     poly__type     3.450421    3.450421  Positive\n",
      "6               scaler__condition    -2.957117    2.957117  Negative\n",
      "0                    scaler__year    -2.952533    2.952533  Negative\n",
      "8                    scaler__type     2.696156    2.696156  Positive\n"
     ]
    }
   ],
   "source": [
    "X_train_transformed = pipeline.named_steps['preprocessing'].transform(X_train)\n",
    "\n",
    "transformed_feature_names = pipeline.named_steps['preprocessing'].get_feature_names_out()\n",
    "\n",
    "coefficients = pipeline.named_steps['model'].coef_\n",
    "\n",
    "print(f\"Number of transformed features: {X_train_transformed.shape[1]}\")\n",
    "print(f\"Number of coefficients: {len(coefficients)}\")\n",
    "\n",
    "if X_train_transformed.shape[1] == len(coefficients):\n",
    "    importance_df = pd.DataFrame({\n",
    "        'Feature': transformed_feature_names,\n",
    "        'Coefficient': coefficients\n",
    "    })\n",
    "\n",
    "    importance_df['Importance'] = np.abs(importance_df['Coefficient'])\n",
    "    importance_df['Impact'] = np.where(importance_df['Coefficient'] > 0, 'Positive', 'Negative')\n",
    "\n",
    "    importance_df_sorted = importance_df.sort_values(by='Importance', ascending=False)\n",
    "\n",
    "    # Display the top n most important features\n",
    "    n = 10 \n",
    "    print(importance_df_sorted.head(n))\n",
    "else:\n",
    "    print(\"Mismatch still exists between the number of transformed features and coefficients.\")"
   ]
  },
  {
   "cell_type": "markdown",
   "metadata": {},
   "source": [
    "### Lasso with OHE manufacturer"
   ]
  },
  {
   "cell_type": "code",
   "execution_count": 112,
   "metadata": {},
   "outputs": [],
   "source": [
    "preprocessing = ColumnTransformer([\n",
    "    ('scaler', StandardScaler(), numerical_columns),  \n",
    "    ('ohe', OneHotEncoder(drop='first'), categorical_columns)  \n",
    "], remainder='passthrough')\n",
    "\n",
    "lasso_pipeline = Pipeline([\n",
    "    ('preprocessing', preprocessing),\n",
    "    ('lasso', Lasso(alpha=0.1))  \n",
    "])"
   ]
  },
  {
   "cell_type": "code",
   "execution_count": 113,
   "metadata": {},
   "outputs": [],
   "source": [
    "pipe = lasso_pipeline.fit(X_train, y_train)"
   ]
  },
  {
   "cell_type": "code",
   "execution_count": 114,
   "metadata": {},
   "outputs": [],
   "source": [
    "train_mse_lasso = mean_squared_error(y_train, lasso_pipeline.predict(X_train))\n",
    "test_mse_lasso = mean_squared_error(y_test, lasso_pipeline.predict(X_test))"
   ]
  },
  {
   "cell_type": "code",
   "execution_count": 115,
   "metadata": {},
   "outputs": [
    {
     "name": "stdout",
     "output_type": "stream",
     "text": [
      "LASSO Train MSE: 7.12\n",
      "Train Baseline MSE: 7.41\n",
      "\n",
      "LASSO Test MSE: 7.03\n",
      "Test Baseline MSE:  7.32\n",
      "\n",
      "Train MSE diff:     0.29\n",
      "Test MSE diff:      0.29\n"
     ]
    }
   ],
   "source": [
    "print(f'LASSO Train MSE: {train_mse_lasso:.2f}')\n",
    "print(f'Train Baseline MSE: {mse_baseline_train:.2f}\\n')\n",
    "print(f'LASSO Test MSE: {test_mse_lasso:.2f}')\n",
    "print(f'Test Baseline MSE:  {mse_baseline_test:.2f}\\n')\n",
    "print(f'Train MSE diff:    {mse_baseline_train-train_mse_lasso: .2f}')\n",
    "print(f'Test MSE diff:     {mse_baseline_test-test_mse_lasso: .2f}')"
   ]
  },
  {
   "cell_type": "code",
   "execution_count": 116,
   "metadata": {},
   "outputs": [
    {
     "data": {
      "text/plain": [
       "['data/mse_lasso.pkl']"
      ]
     },
     "execution_count": 116,
     "metadata": {},
     "output_type": "execute_result"
    }
   ],
   "source": [
    "joblib.dump(pipe, 'data/lasso.pkl')\n",
    "joblib.dump([train_mse_lasso, test_mse_lasso], 'data/mse_lasso.pkl')"
   ]
  },
  {
   "cell_type": "code",
   "execution_count": 117,
   "metadata": {},
   "outputs": [
    {
     "name": "stdout",
     "output_type": "stream",
     "text": [
      "Top 10 most important features based on LASSO regression:\n",
      "                         Feature  Coefficient  Importance    Impact\n",
      "4           scaler__transmission     0.410639    0.410639  Positive\n",
      "5              scaler__cylinders     0.084298    0.084298  Positive\n",
      "8                   scaler__type     0.029540    0.029540  Positive\n",
      "2               scaler__odometer    -0.000484    0.000484  Negative\n",
      "0                   scaler__year     0.000000    0.000000  Negative\n",
      "41  ohe__manufacturer_mitsubishi    -0.000000    0.000000  Negative\n",
      "31      ohe__manufacturer_jaguar     0.000000    0.000000  Negative\n",
      "32        ohe__manufacturer_jeep    -0.000000    0.000000  Negative\n",
      "33         ohe__manufacturer_kia    -0.000000    0.000000  Negative\n",
      "34  ohe__manufacturer_land rover    -0.000000    0.000000  Negative\n"
     ]
    }
   ],
   "source": [
    "coefficients = lasso_pipeline.named_steps['lasso'].coef_\n",
    "\n",
    "transformed_feature_names = lasso_pipeline.named_steps['preprocessing'].get_feature_names_out()\n",
    "\n",
    "importance_df = pd.DataFrame({\n",
    "    'Feature': transformed_feature_names,\n",
    "    'Coefficient': coefficients\n",
    "})\n",
    "\n",
    "importance_df['Importance'] = np.abs(importance_df['Coefficient'])\n",
    "importance_df['Impact'] = np.where(importance_df['Coefficient'] > 0, 'Positive', 'Negative')\n",
    "\n",
    "importance_df_sorted = importance_df.sort_values(by='Importance', ascending=False)\n",
    "\n",
    "# Display the top n most important features\n",
    "n = 10\n",
    "print(f\"Top {n} most important features based on LASSO regression:\")\n",
    "print(importance_df_sorted.head(n))"
   ]
  },
  {
   "cell_type": "markdown",
   "metadata": {},
   "source": [
    "### Lasso with numerical features"
   ]
  },
  {
   "cell_type": "code",
   "execution_count": 119,
   "metadata": {},
   "outputs": [],
   "source": [
    "lasso_pipeline_numerical = Pipeline([\n",
    "    ('scaler', StandardScaler()), \n",
    "    ('poly', PolynomialFeatures(degree=1)), \n",
    "    ('lasso', Lasso(alpha=0.1))\n",
    "])"
   ]
  },
  {
   "cell_type": "code",
   "execution_count": 120,
   "metadata": {},
   "outputs": [],
   "source": [
    "pipe = lasso_pipeline_numerical.fit(Xnum_train, y_train)"
   ]
  },
  {
   "cell_type": "code",
   "execution_count": 121,
   "metadata": {},
   "outputs": [],
   "source": [
    "train_mse_lasso_num = mean_squared_error(y_train, lasso_pipeline_numerical.predict(Xnum_train))\n",
    "test_mse_lasso_num = mean_squared_error(y_test, lasso_pipeline_numerical.predict(Xnum_test))"
   ]
  },
  {
   "cell_type": "code",
   "execution_count": 122,
   "metadata": {},
   "outputs": [
    {
     "name": "stdout",
     "output_type": "stream",
     "text": [
      "LASSO Train MSE: 7.12\n",
      "Train Baseline MSE: 7.41\n",
      "\n",
      "LASSO Test MSE: 7.03\n",
      "Test Baseline MSE:  7.32\n",
      "\n",
      "Train MSE diff:     0.29\n",
      "Test MSE diff:      0.29\n"
     ]
    }
   ],
   "source": [
    "print(f'LASSO Train MSE: {train_mse_lasso_num:.2f}')\n",
    "print(f'Train Baseline MSE: {mse_baseline_train:.2f}\\n')\n",
    "print(f'LASSO Test MSE: {test_mse_lasso_num:.2f}')\n",
    "print(f'Test Baseline MSE:  {mse_baseline_test:.2f}\\n')\n",
    "print(f'Train MSE diff:    {mse_baseline_train-train_mse_lasso_num: .2f}')\n",
    "print(f'Test MSE diff:     {mse_baseline_test-test_mse_lasso_num: .2f}')"
   ]
  },
  {
   "cell_type": "code",
   "execution_count": 123,
   "metadata": {},
   "outputs": [
    {
     "data": {
      "text/plain": [
       "['data/mse_lassonum.pkl']"
      ]
     },
     "execution_count": 123,
     "metadata": {},
     "output_type": "execute_result"
    }
   ],
   "source": [
    "joblib.dump(pipe, 'data/lassonum.pkl')\n",
    "joblib.dump([train_mse_lasso_num, test_mse_lasso_num], 'data/mse_lassonum.pkl')"
   ]
  },
  {
   "cell_type": "code",
   "execution_count": 124,
   "metadata": {},
   "outputs": [
    {
     "name": "stdout",
     "output_type": "stream",
     "text": [
      "Top 10 most important polynomial features based on LASSO regression:\n",
      "        Feature  Coefficient  Importance    Impact\n",
      "5  transmission     0.410639    0.410639  Positive\n",
      "6     cylinders     0.084298    0.084298  Positive\n",
      "9          type     0.029540    0.029540  Positive\n",
      "3      odometer    -0.000484    0.000484  Negative\n",
      "0             1     0.000000    0.000000  Negative\n",
      "1          year     0.000000    0.000000  Negative\n",
      "2          fuel     0.000000    0.000000  Negative\n",
      "4  title_status     0.000000    0.000000  Negative\n",
      "7     condition    -0.000000    0.000000  Negative\n",
      "8         drive    -0.000000    0.000000  Negative\n"
     ]
    }
   ],
   "source": [
    "poly_feature_names = lasso_pipeline_numerical.named_steps['poly'].get_feature_names_out(input_features=numerical_columns)\n",
    "\n",
    "coefficients = lasso_pipeline_numerical.named_steps['lasso'].coef_\n",
    "\n",
    "importance_df = pd.DataFrame({\n",
    "    'Feature': poly_feature_names,\n",
    "    'Coefficient': coefficients\n",
    "})\n",
    "\n",
    "importance_df['Importance'] = np.abs(importance_df['Coefficient'])\n",
    "importance_df['Impact'] = np.where(importance_df['Coefficient'] > 0, 'Positive', 'Negative')\n",
    "\n",
    "importance_df_sorted = importance_df.sort_values(by='Importance', ascending=False)\n",
    "\n",
    "# Display the top n most important features\n",
    "n = 10 \n",
    "print(f\"Top {n} most important polynomial features based on LASSO regression:\")\n",
    "print(importance_df_sorted.head(n))"
   ]
  },
  {
   "cell_type": "markdown",
   "metadata": {},
   "source": [
    "### Ridge with OHE manufacturer"
   ]
  },
  {
   "cell_type": "code",
   "execution_count": 126,
   "metadata": {},
   "outputs": [],
   "source": [
    "from sklearn.linear_model import Ridge\n",
    "\n",
    "preprocessing = ColumnTransformer([\n",
    "    ('scaler', StandardScaler(), numerical_columns), \n",
    "    ('ohe', OneHotEncoder(drop='first'), categorical_columns) \n",
    "], remainder='passthrough')\n",
    "\n",
    "ridge_pipeline = Pipeline([\n",
    "    ('preprocessing', preprocessing),\n",
    "    ('ridge', Ridge(alpha=1.0))\n",
    "])\n",
    "\n",
    "pipe = ridge_pipeline.fit(X_train, y_train)"
   ]
  },
  {
   "cell_type": "code",
   "execution_count": 127,
   "metadata": {},
   "outputs": [],
   "source": [
    "train_mse_ridge = mean_squared_error(y_train, ridge_pipeline.predict(X_train))\n",
    "test_mse_ridge = mean_squared_error(y_test, ridge_pipeline.predict(X_test))"
   ]
  },
  {
   "cell_type": "code",
   "execution_count": 128,
   "metadata": {},
   "outputs": [
    {
     "name": "stdout",
     "output_type": "stream",
     "text": [
      "Ridge Train MSE: 7.02\n",
      "Train Baseline MSE: 7.41\n",
      "\n",
      "Ridge Test MSE: 6.94\n",
      "Test Baseline MSE:  7.32\n",
      "\n",
      "Train MSE diff:     0.39\n",
      "Test MSE diff:      0.39\n"
     ]
    }
   ],
   "source": [
    "print(f'Ridge Train MSE: {train_mse_ridge:.2f}')\n",
    "print(f'Train Baseline MSE: {mse_baseline_train:.2f}\\n')\n",
    "print(f'Ridge Test MSE: {test_mse_ridge:.2f}')\n",
    "print(f'Test Baseline MSE:  {mse_baseline_test:.2f}\\n')\n",
    "print(f'Train MSE diff:    {mse_baseline_train-train_mse_ridge: .2f}')\n",
    "print(f'Test MSE diff:     {mse_baseline_test-test_mse_ridge: .2f}')"
   ]
  },
  {
   "cell_type": "code",
   "execution_count": 129,
   "metadata": {},
   "outputs": [
    {
     "data": {
      "text/plain": [
       "['data/mse_ridge.pkl']"
      ]
     },
     "execution_count": 129,
     "metadata": {},
     "output_type": "execute_result"
    }
   ],
   "source": [
    "joblib.dump(pipe, 'data/ridge.pkl')\n",
    "joblib.dump([train_mse_ridge, test_mse_ridge], 'data/mse_ridge.pkl')"
   ]
  },
  {
   "cell_type": "code",
   "execution_count": 130,
   "metadata": {},
   "outputs": [
    {
     "name": "stdout",
     "output_type": "stream",
     "text": [
      "Top 10 most important features based on Ridge regression:\n",
      "                              Feature  Coefficient  Importance    Impact\n",
      "34       ohe__manufacturer_land rover    -4.609246    4.609246  Negative\n",
      "27  ohe__manufacturer_harley-davidson    -1.177442    1.177442  Negative\n",
      "39          ohe__manufacturer_mercury    -0.798646    0.798646  Negative\n",
      "22            ohe__manufacturer_dodge    -0.714754    0.714754  Negative\n",
      "33              ohe__manufacturer_kia    -0.609846    0.609846  Negative\n",
      "49            ohe__manufacturer_tesla    -0.542013    0.542013  Negative\n",
      "4                scaler__transmission     0.514594    0.514594  Positive\n",
      "29          ohe__manufacturer_hyundai    -0.488592    0.488592  Negative\n",
      "42           ohe__manufacturer_nissan    -0.477881    0.477881  Negative\n",
      "44          ohe__manufacturer_porsche     0.469427    0.469427  Positive\n"
     ]
    }
   ],
   "source": [
    "coefficients = ridge_pipeline.named_steps['ridge'].coef_\n",
    "\n",
    "transformed_feature_names = ridge_pipeline.named_steps['preprocessing'].get_feature_names_out()\n",
    "\n",
    "importance_df = pd.DataFrame({\n",
    "    'Feature': transformed_feature_names,\n",
    "    'Coefficient': coefficients\n",
    "})\n",
    "\n",
    "importance_df['Importance'] = np.abs(importance_df['Coefficient'])\n",
    "importance_df['Impact'] = np.where(importance_df['Coefficient'] > 0, 'Positive', 'Negative')\n",
    "\n",
    "importance_df_sorted = importance_df.sort_values(by='Importance', ascending=False)\n",
    "\n",
    "# Display the top n most important features\n",
    "n = 10  \n",
    "print(f\"Top {n} most important features based on Ridge regression:\")\n",
    "print(importance_df_sorted.head(n))"
   ]
  },
  {
   "cell_type": "markdown",
   "metadata": {},
   "source": [
    "### Ridge with numerical features"
   ]
  },
  {
   "cell_type": "code",
   "execution_count": 132,
   "metadata": {},
   "outputs": [],
   "source": [
    "ridge_pipeline_numerical = Pipeline([\n",
    "    ('scaler', StandardScaler()),  \n",
    "    ('poly', PolynomialFeatures(degree=1)), \n",
    "    ('ridge', Ridge(alpha=1.0)) \n",
    "])\n",
    "\n",
    "pipe = ridge_pipeline_numerical.fit(Xnum_train, y_train)"
   ]
  },
  {
   "cell_type": "code",
   "execution_count": 133,
   "metadata": {},
   "outputs": [],
   "source": [
    "train_mse_ridge_num = mean_squared_error(y_train, ridge_pipeline_numerical.predict(Xnum_train))\n",
    "test_mse_ridge_num = mean_squared_error(y_test, ridge_pipeline_numerical.predict(Xnum_test))"
   ]
  },
  {
   "cell_type": "code",
   "execution_count": 134,
   "metadata": {},
   "outputs": [
    {
     "name": "stdout",
     "output_type": "stream",
     "text": [
      "Ridge Train MSE: 7.06\n",
      "Train Baseline MSE: 7.41\n",
      "\n",
      "Ridge Test MSE: 6.97\n",
      "Test Baseline MSE:  7.32\n",
      "\n",
      "Train MSE diff:     0.35\n",
      "Test MSE diff:      0.35\n"
     ]
    }
   ],
   "source": [
    "print(f'Ridge Train MSE: {train_mse_ridge_num:.2f}')\n",
    "print(f'Train Baseline MSE: {mse_baseline_train:.2f}\\n')\n",
    "print(f'Ridge Test MSE: {test_mse_ridge_num:.2f}')\n",
    "print(f'Test Baseline MSE:  {mse_baseline_test:.2f}\\n')\n",
    "print(f'Train MSE diff:    {mse_baseline_train-train_mse_ridge_num: .2f}')\n",
    "print(f'Test MSE diff:     {mse_baseline_test-test_mse_ridge_num: .2f}')"
   ]
  },
  {
   "cell_type": "code",
   "execution_count": 135,
   "metadata": {},
   "outputs": [
    {
     "data": {
      "text/plain": [
       "['data/mse_ridgenum.pkl']"
      ]
     },
     "execution_count": 135,
     "metadata": {},
     "output_type": "execute_result"
    }
   ],
   "source": [
    "joblib.dump(pipe, 'data/ridgenum.pkl')\n",
    "joblib.dump([train_mse_ridge_num, test_mse_ridge_num], 'data/mse_ridgenum.pkl')"
   ]
  },
  {
   "cell_type": "code",
   "execution_count": 136,
   "metadata": {},
   "outputs": [
    {
     "name": "stdout",
     "output_type": "stream",
     "text": [
      "Top 10 most important polynomial features based on Ridge regression:\n",
      "         Feature  Coefficient  Importance    Impact\n",
      "5   transmission     0.530937    0.530937  Positive\n",
      "13    region_lon     0.351926    0.351926  Positive\n",
      "11     state_lon    -0.323892    0.323892  Negative\n",
      "6      cylinders     0.159117    0.159117  Positive\n",
      "12    region_lat     0.156745    0.156745  Positive\n",
      "7      condition    -0.122996    0.122996  Negative\n",
      "9           type     0.095423    0.095423  Positive\n",
      "3       odometer    -0.084113    0.084113  Negative\n",
      "1           year     0.075176    0.075176  Positive\n",
      "10     state_lat    -0.050153    0.050153  Negative\n"
     ]
    }
   ],
   "source": [
    "poly_feature_names = ridge_pipeline_numerical.named_steps['poly'].get_feature_names_out(input_features=numerical_columns)\n",
    "\n",
    "coefficients = ridge_pipeline_numerical.named_steps['ridge'].coef_\n",
    "\n",
    "importance_df = pd.DataFrame({\n",
    "    'Feature': poly_feature_names,\n",
    "    'Coefficient': coefficients\n",
    "})\n",
    "\n",
    "importance_df['Importance'] = np.abs(importance_df['Coefficient'])\n",
    "importance_df['Impact'] = np.where(importance_df['Coefficient'] > 0, 'Positive', 'Negative')\n",
    "\n",
    "importance_df_sorted = importance_df.sort_values(by='Importance', ascending=False)\n",
    "\n",
    "# Display the top n most important features\n",
    "n = 10 \n",
    "print(f\"Top {n} most important polynomial features based on Ridge regression:\")\n",
    "print(importance_df_sorted.head(n))"
   ]
  },
  {
   "cell_type": "markdown",
   "metadata": {},
   "source": [
    "### GridSearch on Lasso and Ridge params"
   ]
  },
  {
   "cell_type": "code",
   "execution_count": 138,
   "metadata": {},
   "outputs": [],
   "source": [
    "from sklearn.model_selection import GridSearchCV\n",
    "\n",
    "param_grid = {\n",
    "    'lasso__alpha': [0.01, 0.1, 1, 10, 100],\n",
    "    'ridge__alpha': [0.01, 0.1, 1, 10, 100]\n",
    "}\n",
    "\n",
    "grid_search_lasso = GridSearchCV(lasso_pipeline_numerical, param_grid={'lasso__alpha': [0.01, 0.1, 1]})\n",
    "grid_search_ridge = GridSearchCV(ridge_pipeline_numerical, param_grid={'ridge__alpha': [0.01, 0.1, 1]})\n",
    "\n",
    "grid_search_lasso.fit(Xnum_train, y_train)\n",
    "grid_search_ridge.fit(Xnum_train, y_train)\n",
    "\n",
    "best_lasso = grid_search_lasso.best_estimator_\n",
    "best_ridge = grid_search_ridge.best_estimator_"
   ]
  },
  {
   "cell_type": "code",
   "execution_count": 139,
   "metadata": {},
   "outputs": [],
   "source": [
    "train_mse_lassogrid = mean_squared_error(y_train, best_lasso.predict(Xnum_train))\n",
    "test_mse_lassogrid = mean_squared_error(y_test, best_lasso.predict(Xnum_test))"
   ]
  },
  {
   "cell_type": "code",
   "execution_count": 140,
   "metadata": {},
   "outputs": [],
   "source": [
    "train_mse_ridgegrid = mean_squared_error(y_train, best_ridge.predict(Xnum_train))\n",
    "test_mse_ridgegrid = mean_squared_error(y_test, best_ridge.predict(Xnum_test))"
   ]
  },
  {
   "cell_type": "code",
   "execution_count": 141,
   "metadata": {},
   "outputs": [
    {
     "name": "stdout",
     "output_type": "stream",
     "text": [
      "Lasso GridCV Train MSE:         7.06\n",
      "Baseline for training data: 7.41\n",
      "Lasso GridCV Test MSE:         6.97\n",
      "Baseline for testing data: 7.32\n",
      "\n",
      "Train MSE diff:    0.35\n",
      "Test MSE diff:     0.35\n"
     ]
    }
   ],
   "source": [
    "print(f'Lasso GridCV Train MSE:         {train_mse_lassogrid:.2f}')\n",
    "print(f'Baseline for training data: {mse_baseline_train:.2f}')\n",
    "print(f'Lasso GridCV Test MSE:         {test_mse_lassogrid:.2f}')\n",
    "print(f'Baseline for testing data: {mse_baseline_test:.2f}\\n')\n",
    "print(f'Train MSE diff:    {mse_baseline_train-train_mse_lassogrid:.2f}')\n",
    "print(f'Test MSE diff:     {mse_baseline_test-test_mse_lassogrid:.2f}')"
   ]
  },
  {
   "cell_type": "code",
   "execution_count": 142,
   "metadata": {},
   "outputs": [
    {
     "name": "stdout",
     "output_type": "stream",
     "text": [
      "Ridge GridCV Train MSE:         7.06\n",
      "Baseline for training data: 7.41\n",
      "Ridge GridCV Test MSE:         6.97\n",
      "Baseline for testing data: 7.32\n",
      "\n",
      "Train MSE diff:    0.35\n",
      "Test MSE diff:     0.35\n"
     ]
    }
   ],
   "source": [
    "print(f'Ridge GridCV Train MSE:         {train_mse_ridgegrid:.2f}')\n",
    "print(f'Baseline for training data: {mse_baseline_train:.2f}')\n",
    "print(f'Ridge GridCV Test MSE:         {test_mse_ridgegrid:.2f}')\n",
    "print(f'Baseline for testing data: {mse_baseline_test:.2f}\\n')\n",
    "print(f'Train MSE diff:    {mse_baseline_train-train_mse_ridgegrid:.2f}')\n",
    "print(f'Test MSE diff:     {mse_baseline_test-test_mse_ridgegrid:.2f}')"
   ]
  },
  {
   "cell_type": "code",
   "execution_count": 143,
   "metadata": {},
   "outputs": [
    {
     "data": {
      "text/plain": [
       "['data/mse_bestridge.pkl']"
      ]
     },
     "execution_count": 143,
     "metadata": {},
     "output_type": "execute_result"
    }
   ],
   "source": [
    "joblib.dump(best_lasso, 'data/bestlasso.pkl')\n",
    "joblib.dump([train_mse_lassogrid, test_mse_lassogrid], 'data/mse_bestlasso.pkl')\n",
    "\n",
    "joblib.dump(best_ridge, 'data/bestridge.pkl')\n",
    "joblib.dump([train_mse_ridgegrid, test_mse_ridgegrid], 'data/mse_bestridge.pkl')"
   ]
  },
  {
   "cell_type": "code",
   "execution_count": 144,
   "metadata": {},
   "outputs": [
    {
     "name": "stdout",
     "output_type": "stream",
     "text": [
      "Number of transformed features: 14\n",
      "Number of coefficients: 14\n",
      "Top Lasso Features:\n",
      "         Feature  Coefficient  Importance    Impact\n",
      "5   transmission     0.514063    0.514063  Positive\n",
      "6      cylinders     0.153807    0.153807  Positive\n",
      "7      condition    -0.110400    0.110400  Negative\n",
      "12    region_lat     0.091137    0.091137  Positive\n",
      "9           type     0.082054    0.082054  Positive\n",
      "3       odometer    -0.075738    0.075738  Negative\n",
      "1           year     0.063803    0.063803  Positive\n",
      "4   title_status     0.029311    0.029311  Positive\n",
      "13    region_lon     0.020669    0.020669  Positive\n",
      "8          drive    -0.019261    0.019261  Negative\n",
      "\n",
      "Top Ridge Features:\n",
      "         Feature  Coefficient  Importance    Impact\n",
      "5   transmission     0.530937    0.530937  Positive\n",
      "13    region_lon     0.351926    0.351926  Positive\n",
      "11     state_lon    -0.323892    0.323892  Negative\n",
      "6      cylinders     0.159117    0.159117  Positive\n",
      "12    region_lat     0.156745    0.156745  Positive\n",
      "7      condition    -0.122996    0.122996  Negative\n",
      "9           type     0.095423    0.095423  Positive\n",
      "3       odometer    -0.084113    0.084113  Negative\n",
      "1           year     0.075176    0.075176  Positive\n",
      "10     state_lat    -0.050153    0.050153  Negative\n"
     ]
    }
   ],
   "source": [
    "lasso_coefficients = best_lasso.named_steps['lasso'].coef_\n",
    "ridge_coefficients = best_ridge.named_steps['ridge'].coef_\n",
    "\n",
    "transformed_feature_names = best_lasso.named_steps['poly'].get_feature_names_out(numerical_columns)\n",
    "\n",
    "print(f\"Number of transformed features: {len(transformed_feature_names)}\")\n",
    "print(f\"Number of coefficients: {len(lasso_coefficients)}\")\n",
    "\n",
    "if len(transformed_feature_names) == len(lasso_coefficients):\n",
    "    lasso_importance_df = pd.DataFrame({\n",
    "        'Feature': transformed_feature_names,\n",
    "        'Coefficient': lasso_coefficients\n",
    "    })\n",
    "\n",
    "    ridge_importance_df = pd.DataFrame({\n",
    "        'Feature': transformed_feature_names,\n",
    "        'Coefficient': ridge_coefficients\n",
    "    })\n",
    "\n",
    "    lasso_importance_df['Importance'] = np.abs(lasso_importance_df['Coefficient'])\n",
    "    lasso_importance_df['Impact'] = np.where(lasso_importance_df['Coefficient'] > 0, 'Positive', 'Negative')\n",
    "\n",
    "    ridge_importance_df['Importance'] = np.abs(ridge_importance_df['Coefficient'])\n",
    "    ridge_importance_df['Impact'] = np.where(ridge_importance_df['Coefficient'] > 0, 'Positive', 'Negative')\n",
    "\n",
    "    # Sort by importance and display top n most important features\n",
    "    n = 10\n",
    "    print(\"Top Lasso Features:\")\n",
    "    print(lasso_importance_df.sort_values(by='Importance', ascending=False).head(n))\n",
    "\n",
    "    print(\"\\nTop Ridge Features:\")\n",
    "    print(ridge_importance_df.sort_values(by='Importance', ascending=False).head(n))\n",
    "else:\n",
    "    print(\"Mismatch between the number of transformed features and coefficients.\")\n"
   ]
  },
  {
   "cell_type": "markdown",
   "metadata": {},
   "source": [
    "### Sequential Feature Selector"
   ]
  },
  {
   "cell_type": "code",
   "execution_count": 146,
   "metadata": {},
   "outputs": [],
   "source": [
    "sequential_pipe = Pipeline([\n",
    "    ('poly_features', PolynomialFeatures(degree=1, include_bias=False)),\n",
    "    ('selector', SequentialFeatureSelector(LinearRegression(),n_features_to_select=5)),\n",
    "    ('linreg', LinearRegression()) \n",
    "])\n",
    "\n",
    "pipe = sequential_pipe.fit(Xnum_train, y_train)"
   ]
  },
  {
   "cell_type": "code",
   "execution_count": 147,
   "metadata": {},
   "outputs": [],
   "source": [
    "train_preds = sequential_pipe.predict(Xnum_train)\n",
    "test_preds = sequential_pipe.predict(Xnum_test)\n",
    "train_mse_sfs = mean_squared_error(train_preds, y_train)\n",
    "test_mse_sfs = mean_squared_error(test_preds, y_test)"
   ]
  },
  {
   "cell_type": "code",
   "execution_count": 148,
   "metadata": {},
   "outputs": [
    {
     "name": "stdout",
     "output_type": "stream",
     "text": [
      "Baseline for training data: 7.41\n",
      "SFS Train MSE:          7.07\n",
      "Baseline for testing data: 7.32\n",
      "SFS Test MSE:          6.98\n",
      "\n",
      "Train MSE diff:     0.34\n",
      "Test MSE diff:      0.34\n"
     ]
    }
   ],
   "source": [
    "print(f'Baseline for training data: {mse_baseline_train:.2f}')\n",
    "print(f'SFS Train MSE:         {train_mse_sfs: .2f}')\n",
    "print(f'Baseline for testing data: {mse_baseline_test:.2f}')\n",
    "print(f'SFS Test MSE:         {test_mse_sfs: .2f}\\n')\n",
    "print(f'Train MSE diff:    {mse_baseline_train-train_mse_sfs: .2f}')\n",
    "print(f'Test MSE diff:     {mse_baseline_test-test_mse_sfs: .2f}')"
   ]
  },
  {
   "cell_type": "code",
   "execution_count": 149,
   "metadata": {},
   "outputs": [
    {
     "data": {
      "text/plain": [
       "['data/mse_sfs.pkl']"
      ]
     },
     "execution_count": 149,
     "metadata": {},
     "output_type": "execute_result"
    }
   ],
   "source": [
    "joblib.dump(pipe, 'data/sfs.pkl')\n",
    "joblib.dump([train_mse_sfs, test_mse_sfs], 'data/mse_sfs.pkl')"
   ]
  },
  {
   "cell_type": "code",
   "execution_count": 217,
   "metadata": {},
   "outputs": [
    {
     "name": "stdout",
     "output_type": "stream",
     "text": [
      "Selected Feature Indices: [ 2  4  5  6 11]\n",
      "Coefficients Shape: (5,)\n",
      "Number of coefficients: 5\n",
      "Selected feature indices: [ 2  4  5  6 11]\n",
      "Top 5 Selected Features:\n",
      "        Feature   Coefficient    Importance    Impact\n",
      "1  transmission  7.279279e-01  7.279279e-01  Positive\n",
      "2     cylinders  2.094657e-01  2.094657e-01  Positive\n",
      "3     condition -1.949108e-01  1.949108e-01  Negative\n",
      "4    region_lat  1.776449e-02  1.776449e-02  Positive\n",
      "0      odometer -4.951317e-07  4.951317e-07  Negative\n"
     ]
    }
   ],
   "source": [
    "coefficients = sequential_pipe.named_steps['linreg'].coef_\n",
    "\n",
    "poly_feature_names = sequential_pipe.named_steps['poly_features'].get_feature_names_out(Xnum_train.columns)\n",
    "\n",
    "selected_feature_indices = sequential_pipe.named_steps['selector'].get_support(indices=True)\n",
    "\n",
    "print(f\"Selected Feature Indices: {selected_feature_indices}\")\n",
    "print(f\"Coefficients Shape: {coefficients.shape}\")\n",
    "print(f\"Number of coefficients: {len(coefficients)}\")\n",
    "print(f\"Selected feature indices: {selected_feature_indices}\")\n",
    "\n",
    "if len(selected_feature_indices) != len(coefficients):\n",
    "    print(f\"Warning: Number of coefficients ({len(coefficients)}) does not match the number of selected features ({len(selected_feature_indices)}).\")\n",
    "\n",
    "selected_feature_names = poly_feature_names[selected_feature_indices]\n",
    "\n",
    "selected_coefficients = coefficients[:len(selected_feature_indices)]\n",
    "\n",
    "importance_df = pd.DataFrame({\n",
    "    'Feature': selected_feature_names,\n",
    "    'Coefficient': selected_coefficients\n",
    "})\n",
    "\n",
    "importance_df['Importance'] = np.abs(importance_df['Coefficient'])\n",
    "importance_df['Impact'] = np.where(importance_df['Coefficient'] > 0, 'Positive', 'Negative')\n",
    "\n",
    "importance_df_sorted = importance_df.sort_values(by='Importance', ascending=False)\n",
    "\n",
    "# Display the top n most important features\n",
    "n = 5\n",
    "print(f\"Top {n} Selected Features:\")\n",
    "print(importance_df_sorted.head(n))\n",
    "    "
   ]
  }
 ],
 "metadata": {
  "kernelspec": {
   "display_name": "Python 3 (ipykernel)",
   "language": "python",
   "name": "python3"
  },
  "language_info": {
   "codemirror_mode": {
    "name": "ipython",
    "version": 3
   },
   "file_extension": ".py",
   "mimetype": "text/x-python",
   "name": "python",
   "nbconvert_exporter": "python",
   "pygments_lexer": "ipython3",
   "version": "3.11.7"
  },
  "widgets": {
   "application/vnd.jupyter.widget-state+json": {
    "state": {},
    "version_major": 2,
    "version_minor": 0
   }
  }
 },
 "nbformat": 4,
 "nbformat_minor": 4
}
