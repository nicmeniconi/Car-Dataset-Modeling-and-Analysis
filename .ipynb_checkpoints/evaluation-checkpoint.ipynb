{
 "cells": [
  {
   "cell_type": "markdown",
   "metadata": {},
   "source": [
    "# What drives the price of a car?\n",
    "\n",
    "![](images/kurt.jpeg)"
   ]
  },
  {
   "cell_type": "code",
   "execution_count": 108,
   "metadata": {},
   "outputs": [],
   "source": [
    "import pandas as pd\n",
    "import seaborn as sns\n",
    "import numpy as np\n",
    "import matplotlib.pyplot as plt\n",
    "import json\n",
    "import joblib\n",
    "import pickle \n",
    "\n",
    "from sklearn.pipeline import Pipeline\n",
    "from sklearn.impute import SimpleImputer\n",
    "from sklearn.preprocessing import FunctionTransformer\n",
    "from sklearn.linear_model import LogisticRegression\n",
    "from sklearn.model_selection import train_test_split"
   ]
  },
  {
   "cell_type": "markdown",
   "metadata": {},
   "source": [
    "# Pre-Processing"
   ]
  },
  {
   "cell_type": "markdown",
   "metadata": {},
   "source": [
    "#### Import and prepare preprocessed data"
   ]
  },
  {
   "cell_type": "code",
   "execution_count": 111,
   "metadata": {},
   "outputs": [
    {
     "name": "stdout",
     "output_type": "stream",
     "text": [
      "Done downloading\n"
     ]
    }
   ],
   "source": [
    "training = pd.read_csv('data/training.csv').reset_index(drop=True)\n",
    "testing = pd.read_csv('data/testing.csv').reset_index(drop=True)  \n",
    "print('Done downloading')"
   ]
  },
  {
   "cell_type": "code",
   "execution_count": 112,
   "metadata": {},
   "outputs": [],
   "source": [
    "training.drop(columns=['region','state','condition_ranked'], inplace=True)\n",
    "testing.drop(columns=['region','state','condition_ranked'],inplace=True)"
   ]
  },
  {
   "cell_type": "code",
   "execution_count": 113,
   "metadata": {},
   "outputs": [],
   "source": [
    "training.rename(columns={\n",
    "    'cylinders_imputed':'cylinders',\n",
    "    'condition_imputed':'condition',\n",
    "    'drive_imputed':'drive',\n",
    "    'type_imputed':'type'},\n",
    "inplace=True)\n",
    "\n",
    "testing.rename(columns={\n",
    "    'cylinders_imputed':'cylinders',\n",
    "    'condition_imputed':'condition',\n",
    "    'drive_imputed':'drive',\n",
    "    'type_imputed':'type'},\n",
    "inplace=True)"
   ]
  },
  {
   "cell_type": "code",
   "execution_count": 114,
   "metadata": {},
   "outputs": [],
   "source": [
    "fuel_order = ['gas', 'diesel', 'hybrid', 'electric', 'other']\n",
    "title_status_order = ['clean', 'rebuilt', 'lien', 'salvage', 'missing', 'parts only']\n",
    "transmission_order = ['automatic', 'manual', 'other']\n",
    "cylinders_order = ['4 cylinders', '6 cylinders', '8 cylinders', '5 cylinders', '3 cylinders', '10 cylinders', '12 cylinders', 'other']\n",
    "condition_order = ['new', 'like new', 'excellent', 'good', 'fair', 'salvage']\n",
    "drive_order = ['4wd', 'fwd', 'rwd']\n",
    "type_order = ['sedan', 'suv', 'truck', 'coupe', 'pickup', 'hatchback', 'wagon', 'convertible', 'van', 'bus', 'other']"
   ]
  },
  {
   "cell_type": "code",
   "execution_count": 115,
   "metadata": {},
   "outputs": [],
   "source": [
    "ordinal_mappings = {\n",
    "    'fuel': fuel_order,\n",
    "    'title_status': title_status_order,\n",
    "    'transmission': transmission_order,\n",
    "    'cylinders': cylinders_order,\n",
    "    'condition': condition_order,\n",
    "    'drive': drive_order,\n",
    "    'type': type_order\n",
    "}\n",
    "\n",
    "def ordinal_encode_column(df, column, order):\n",
    "    df[column] = df[column].apply(lambda x: order.index(x) if x in order else None)\n",
    "    return df\n",
    "\n",
    "for col, order in ordinal_mappings.items():\n",
    "    training = ordinal_encode_column(training, col, order)\n",
    "    testing = ordinal_encode_column(testing, col, order)"
   ]
  },
  {
   "cell_type": "code",
   "execution_count": 116,
   "metadata": {},
   "outputs": [],
   "source": [
    "training.drop(columns='model', inplace=True)\n",
    "testing.drop(columns='model', inplace=True)"
   ]
  },
  {
   "cell_type": "code",
   "execution_count": 117,
   "metadata": {},
   "outputs": [],
   "source": [
    "categorical_columns = training.select_dtypes(include=['object', 'category']).columns.tolist()\n",
    "numerical_columns = training.select_dtypes(include=['number']).columns.tolist()\n",
    "numerical_columns.remove('price')"
   ]
  },
  {
   "cell_type": "markdown",
   "metadata": {},
   "source": [
    "### Modeling\n",
    "\n",
    "With your (almost?) final dataset in hand, it is now time to build some models.  Here, you should build a number of different regression models with the price as the target.  In building your models, you should explore different parameters and be sure to cross-validate your findings."
   ]
  },
  {
   "cell_type": "markdown",
   "metadata": {},
   "source": [
    "### Baseline"
   ]
  },
  {
   "cell_type": "code",
   "execution_count": 120,
   "metadata": {},
   "outputs": [],
   "source": [
    "import numpy as np\n",
    "\n",
    "from sklearn.linear_model import LinearRegression\n",
    "from sklearn.pipeline import Pipeline\n",
    "from sklearn.preprocessing import StandardScaler, PolynomialFeatures, OneHotEncoder, OrdinalEncoder\n",
    "from sklearn.metrics import mean_squared_error \n",
    "from sklearn.model_selection import train_test_split\n",
    "from sklearn.compose import make_column_transformer, make_column_selector\n",
    "from sklearn.pipeline import Pipeline\n",
    "from sklearn.compose import ColumnTransformer\n",
    "\n",
    "\n",
    "from sklearn import set_config\n",
    "\n",
    "set_config(display=\"diagram\") #setting this will display your pipelines as seen above"
   ]
  },
  {
   "cell_type": "code",
   "execution_count": 121,
   "metadata": {},
   "outputs": [],
   "source": [
    "X_train = training.drop('price', axis=1)\n",
    "y_train = training['price']\n",
    "\n",
    "X_test = testing.drop('price', axis=1)\n",
    "y_test = testing['price']\n",
    "\n",
    "Xnum_train = X_train[numerical_columns]\n",
    "Xnum_test = X_test[numerical_columns]\n",
    "\n",
    "#log_scaling\n",
    "y_train = np.log1p(y_train)\n",
    "y_test = np.log1p(y_test)"
   ]
  },
  {
   "cell_type": "code",
   "execution_count": 122,
   "metadata": {},
   "outputs": [
    {
     "name": "stdout",
     "output_type": "stream",
     "text": [
      "Baseline for training data: 7.41\n",
      "Baseline for testing data: 7.32\n"
     ]
    }
   ],
   "source": [
    "mse_baseline_train, mse_baseline_test = joblib.load('data/mse_baseline.pkl')\n",
    "\n",
    "print(f'Baseline for training data: {mse_baseline_train:.2f}')\n",
    "print(f'Baseline for testing data: {mse_baseline_test:.2f}')"
   ]
  },
  {
   "cell_type": "markdown",
   "metadata": {},
   "source": [
    "### LinReg on highest correlation feature"
   ]
  },
  {
   "cell_type": "code",
   "execution_count": 124,
   "metadata": {},
   "outputs": [
    {
     "name": "stdout",
     "output_type": "stream",
     "text": [
      "condition\n",
      "Index(['condition', 'type', 'cylinders', 'region_lon', 'state_lon'], dtype='object')\n"
     ]
    }
   ],
   "source": [
    "numeric_train = training.select_dtypes(include=[np.number])\n",
    "\n",
    "correlation_matrix = numeric_train.corr()\n",
    "\n",
    "highest_corr = correlation_matrix[['price']].nlargest(columns='price', n=2).index[1]\n",
    "print(highest_corr)\n",
    "\n",
    "n = 5 \n",
    "highest_corr_columns = correlation_matrix['price'].drop('price').nlargest(n).index\n",
    "\n",
    "print(highest_corr_columns)"
   ]
  },
  {
   "cell_type": "code",
   "execution_count": 125,
   "metadata": {},
   "outputs": [
    {
     "name": "stdout",
     "output_type": "stream",
     "text": [
      "Train MSE:          7.41\n",
      "Train Baseline MSE: 7.41\n",
      "\n",
      "Test MSE:          7.32\n",
      "Test Baseline MSE: 7.32\n",
      "\n",
      "Train MSE diff:    0.00\n",
      "Test MSE diff:     0.00\n"
     ]
    }
   ],
   "source": [
    "train_mse_highcorr, test_mse_highcorr = joblib.load('data/mse_highcorr.pkl')\n",
    "highcorr = joblib.load('data/highcorr.pkl')\n",
    "\n",
    "print(f'Train MSE:         {train_mse_highcorr: .2f}')\n",
    "print(f'Train Baseline MSE: {mse_baseline_train:.2f}\\n')\n",
    "print(f'Test MSE:         {test_mse_highcorr: .2f}')\n",
    "print(f'Test Baseline MSE: {mse_baseline_test:.2f}\\n')\n",
    "print(f'Train MSE diff:   {mse_baseline_train-train_mse_highcorr: .2f}')\n",
    "print(f'Test MSE diff:    {mse_baseline_test-test_mse_highcorr: .2f}')"
   ]
  },
  {
   "cell_type": "markdown",
   "metadata": {},
   "source": [
    "### LinReg on highest correlation feature"
   ]
  },
  {
   "cell_type": "code",
   "execution_count": 127,
   "metadata": {},
   "outputs": [],
   "source": [
    "train_mse_highcorr_col, test_mse_highcorr_col = joblib.load('data/mse_highcorrs.pkl')\n",
    "highcorrs = joblib.load('data/highcorrs.pkl')"
   ]
  },
  {
   "cell_type": "code",
   "execution_count": 128,
   "metadata": {},
   "outputs": [
    {
     "name": "stdout",
     "output_type": "stream",
     "text": [
      "Train MSE:          7.35\n",
      "Train Baseline MSE: 7.41\n",
      "\n",
      "Test MSE:          7.27\n",
      "Test Baseline MSE: 7.32\n",
      "\n",
      "Train MSE diff:    0.06\n",
      "Test MSE diff:     0.05\n"
     ]
    }
   ],
   "source": [
    "print(f'Train MSE:         {train_mse_highcorr_col: .2f}')\n",
    "print(f'Train Baseline MSE: {mse_baseline_train:.2f}\\n')\n",
    "print(f'Test MSE:         {test_mse_highcorr_col: .2f}')\n",
    "print(f'Test Baseline MSE: {mse_baseline_test:.2f}\\n')\n",
    "print(f'Train MSE diff:   {mse_baseline_train-train_mse_highcorr_col: .2f}')\n",
    "print(f'Test MSE diff:    {mse_baseline_test-test_mse_highcorr_col: .2f}')"
   ]
  },
  {
   "cell_type": "markdown",
   "metadata": {},
   "source": [
    "### LinReg on numerical columns"
   ]
  },
  {
   "cell_type": "code",
   "execution_count": 130,
   "metadata": {},
   "outputs": [
    {
     "name": "stdout",
     "output_type": "stream",
     "text": [
      "Train MSE:          7.06\n",
      "Train Baseline MSE: 7.41\n",
      "\n",
      "Test MSE:           6.97\n",
      "Test Baseline MSE:  7.32\n",
      "\n",
      "Train MSE diff:     0.35\n",
      "Test MSE diff:      0.35\n"
     ]
    }
   ],
   "source": [
    "train_mse_numlr, test_mse_numlr = joblib.load('data/mse_linreg.pkl')\n",
    "lr = joblib.load('data/linreg.pkl')\n",
    "\n",
    "print(f'Train MSE:         {train_mse_numlr: .2f}')\n",
    "print(f'Train Baseline MSE: {mse_baseline_train:.2f}\\n')\n",
    "print(f'Test MSE:          {test_mse_numlr: .2f}')\n",
    "print(f'Test Baseline MSE:  {mse_baseline_test:.2f}\\n')\n",
    "print(f'Train MSE diff:    {mse_baseline_train-train_mse_numlr: .2f}')\n",
    "print(f'Test MSE diff:     {mse_baseline_test-test_mse_numlr: .2f}')"
   ]
  },
  {
   "cell_type": "code",
   "execution_count": 131,
   "metadata": {},
   "outputs": [
    {
     "name": "stdout",
     "output_type": "stream",
     "text": [
      "         Feature  Coefficient    Impact  Importance\n",
      "4   transmission     0.530939  Positive    0.530939\n",
      "12    region_lon     0.352072  Positive    0.352072\n",
      "10     state_lon    -0.324038  Negative    0.324038\n",
      "5      cylinders     0.159117  Positive    0.159117\n",
      "11    region_lat     0.156777  Positive    0.156777\n"
     ]
    }
   ],
   "source": [
    "coefficients = lr.named_steps['model'].coef_\n",
    "\n",
    "importance_df = pd.DataFrame({\n",
    "    'Feature': Xnum_train.columns,\n",
    "    'Coefficient': coefficients\n",
    "})\n",
    "\n",
    "# Add a new column to interpret whether the feature has a positive or negative impact\n",
    "importance_df['Impact'] = np.where(importance_df['Coefficient'] > 0, 'Positive', 'Negative')\n",
    "\n",
    "# Sort by absolute value of the coefficient\n",
    "importance_df['Importance'] = np.abs(importance_df['Coefficient'])\n",
    "importance_df_sorted = importance_df.sort_values(by='Importance', ascending=False)\n",
    "\n",
    "# Display the top n most important features with their impact\n",
    "n = 5  # Number of important features to display\n",
    "print(importance_df_sorted.head(n))"
   ]
  },
  {
   "cell_type": "markdown",
   "metadata": {},
   "source": [
    "### Polynomial model with numerical data"
   ]
  },
  {
   "cell_type": "code",
   "execution_count": 133,
   "metadata": {},
   "outputs": [],
   "source": [
    "train_mse_polynum, test_mse_polynum = joblib.load('data/mse_polynum.pkl')\n",
    "pipeline = joblib.load('data/polynum.pkl')"
   ]
  },
  {
   "cell_type": "code",
   "execution_count": 134,
   "metadata": {},
   "outputs": [
    {
     "name": "stdout",
     "output_type": "stream",
     "text": [
      "Train MSE:          6.86\n",
      "Train Baseline MSE: 7.41\n",
      "\n",
      "Test MSE:           6.77\n",
      "Test Baseline MSE:  7.32\n",
      "\n",
      "Train MSE diff:     0.55\n",
      "Test MSE diff:      0.56\n"
     ]
    }
   ],
   "source": [
    "print(f'Train MSE:         {train_mse_polynum: .2f}')\n",
    "print(f'Train Baseline MSE: {mse_baseline_train:.2f}\\n')\n",
    "print(f'Test MSE:          {test_mse_polynum: .2f}')\n",
    "print(f'Test Baseline MSE:  {mse_baseline_test:.2f}\\n')\n",
    "print(f'Train MSE diff:    {mse_baseline_train-train_mse_polynum: .2f}')\n",
    "print(f'Test MSE diff:     {mse_baseline_test-test_mse_polynum: .2f}')"
   ]
  },
  {
   "cell_type": "code",
   "execution_count": 135,
   "metadata": {},
   "outputs": [
    {
     "name": "stdout",
     "output_type": "stream",
     "text": [
      "Number of transformed features: 118\n",
      "Number of coefficients: 118\n",
      "                 Feature  Coefficient  Importance    Impact\n",
      "4   scaler__transmission   -18.035685   18.035685  Negative\n",
      "18    poly__transmission   -13.231355   13.231355  Negative\n",
      "25      poly__region_lat    -4.791949    4.791949  Negative\n",
      "15            poly__fuel    -4.623615    4.623615  Negative\n",
      "1           scaler__fuel    -4.294641    4.294641  Negative\n",
      "22            poly__type     3.733733    3.733733  Positive\n",
      "6      scaler__condition    -3.436129    3.436129  Negative\n",
      "8           scaler__type     2.917534    2.917534  Positive\n",
      "23       poly__state_lat     2.302460    2.302460  Positive\n",
      "20       poly__condition    -2.168317    2.168317  Negative\n"
     ]
    }
   ],
   "source": [
    "X_train_transformed = pipeline.named_steps['preprocessing'].transform(Xnum_train)\n",
    "\n",
    "transformed_feature_names = pipeline.named_steps['preprocessing'].get_feature_names_out()\n",
    "\n",
    "coefficients = pipeline.named_steps['model'].coef_\n",
    "print(f\"Number of transformed features: {X_train_transformed.shape[1]}\")\n",
    "print(f\"Number of coefficients: {len(coefficients)}\")\n",
    "\n",
    "importance_df = pd.DataFrame({\n",
    "    'Feature': transformed_feature_names,\n",
    "    'Coefficient': coefficients\n",
    "})\n",
    "\n",
    "importance_df['Importance'] = np.abs(importance_df['Coefficient'])\n",
    "importance_df['Impact'] = np.where(importance_df['Coefficient'] > 0, 'Positive', 'Negative')\n",
    "\n",
    "importance_df_sorted = importance_df.sort_values(by='Importance', ascending=False)\n",
    "\n",
    "# Display the top n most important features\n",
    "n = 10  \n",
    "print(importance_df_sorted.head(n))"
   ]
  },
  {
   "cell_type": "markdown",
   "metadata": {},
   "source": [
    "### Polynomial model with OHE manufacturer"
   ]
  },
  {
   "cell_type": "code",
   "execution_count": 137,
   "metadata": {},
   "outputs": [],
   "source": [
    "train_mse_poly, test_mse_poly = joblib.load('data/mse_poly.pkl')\n",
    "pipe = joblib.load('data/poly.pkl')"
   ]
  },
  {
   "cell_type": "code",
   "execution_count": 138,
   "metadata": {},
   "outputs": [
    {
     "name": "stdout",
     "output_type": "stream",
     "text": [
      "Train MSE:          6.83\n",
      "Train Baseline MSE: 7.41\n",
      "\n",
      "Test MSE:           6.73\n",
      "Test Baseline MSE:  7.32\n",
      "\n",
      "Train MSE diff:     0.58\n",
      "Test MSE diff:      0.59\n"
     ]
    }
   ],
   "source": [
    "print(f'Train MSE:         {train_mse_poly: .2f}')\n",
    "print(f'Train Baseline MSE: {mse_baseline_train:.2f}\\n')\n",
    "print(f'Test MSE:          {test_mse_poly: .2f}')\n",
    "print(f'Test Baseline MSE:  {mse_baseline_test:.2f}\\n')\n",
    "print(f'Train MSE diff:    {mse_baseline_train-train_mse_poly: .2f}')\n",
    "print(f'Test MSE diff:     {mse_baseline_test-test_mse_poly: .2f}')"
   ]
  },
  {
   "cell_type": "code",
   "execution_count": 139,
   "metadata": {},
   "outputs": [
    {
     "name": "stdout",
     "output_type": "stream",
     "text": [
      "Number of transformed features: 118\n",
      "Number of coefficients: 118\n",
      "                 Feature  Coefficient  Importance    Impact\n",
      "4   scaler__transmission   -18.035685   18.035685  Negative\n",
      "18    poly__transmission   -13.231355   13.231355  Negative\n",
      "25      poly__region_lat    -4.791949    4.791949  Negative\n",
      "15            poly__fuel    -4.623615    4.623615  Negative\n",
      "1           scaler__fuel    -4.294641    4.294641  Negative\n",
      "22            poly__type     3.733733    3.733733  Positive\n",
      "6      scaler__condition    -3.436129    3.436129  Negative\n",
      "8           scaler__type     2.917534    2.917534  Positive\n",
      "23       poly__state_lat     2.302460    2.302460  Positive\n",
      "20       poly__condition    -2.168317    2.168317  Negative\n"
     ]
    }
   ],
   "source": [
    "X_train_transformed = pipeline.named_steps['preprocessing'].transform(X_train)\n",
    "\n",
    "transformed_feature_names = pipeline.named_steps['preprocessing'].get_feature_names_out()\n",
    "\n",
    "coefficients = pipeline.named_steps['model'].coef_\n",
    "\n",
    "print(f\"Number of transformed features: {X_train_transformed.shape[1]}\")\n",
    "print(f\"Number of coefficients: {len(coefficients)}\")\n",
    "\n",
    "if X_train_transformed.shape[1] == len(coefficients):\n",
    "    importance_df = pd.DataFrame({\n",
    "        'Feature': transformed_feature_names,\n",
    "        'Coefficient': coefficients\n",
    "    })\n",
    "\n",
    "    importance_df['Importance'] = np.abs(importance_df['Coefficient'])\n",
    "    importance_df['Impact'] = np.where(importance_df['Coefficient'] > 0, 'Positive', 'Negative')\n",
    "\n",
    "    importance_df_sorted = importance_df.sort_values(by='Importance', ascending=False)\n",
    "\n",
    "    # Display the top n most important features\n",
    "    n = 10 \n",
    "    print(importance_df_sorted.head(n))\n",
    "else:\n",
    "    print(\"Mismatch still exists between the number of transformed features and coefficients.\")"
   ]
  },
  {
   "cell_type": "markdown",
   "metadata": {},
   "source": [
    "### Lasso with OHE manufacturer"
   ]
  },
  {
   "cell_type": "code",
   "execution_count": 141,
   "metadata": {},
   "outputs": [],
   "source": [
    "train_mse_lasso, test_mse_lasso = joblib.load('data/mse_lasso.pkl')\n",
    "lasso_pipeline = joblib.load('data/lasso.pkl')"
   ]
  },
  {
   "cell_type": "code",
   "execution_count": 142,
   "metadata": {},
   "outputs": [
    {
     "name": "stdout",
     "output_type": "stream",
     "text": [
      "LASSO Train MSE: 7.12\n",
      "Train Baseline MSE: 7.41\n",
      "\n",
      "LASSO Test MSE: 7.03\n",
      "Test Baseline MSE:  7.32\n",
      "\n",
      "Train MSE diff:     0.29\n",
      "Test MSE diff:      0.29\n"
     ]
    }
   ],
   "source": [
    "print(f'LASSO Train MSE: {train_mse_lasso:.2f}')\n",
    "print(f'Train Baseline MSE: {mse_baseline_train:.2f}\\n')\n",
    "print(f'LASSO Test MSE: {test_mse_lasso:.2f}')\n",
    "print(f'Test Baseline MSE:  {mse_baseline_test:.2f}\\n')\n",
    "print(f'Train MSE diff:    {mse_baseline_train-train_mse_lasso: .2f}')\n",
    "print(f'Test MSE diff:     {mse_baseline_test-test_mse_lasso: .2f}')"
   ]
  },
  {
   "cell_type": "code",
   "execution_count": 143,
   "metadata": {},
   "outputs": [
    {
     "name": "stdout",
     "output_type": "stream",
     "text": [
      "Top 10 most important features based on LASSO regression:\n",
      "                         Feature  Coefficient  Importance    Impact\n",
      "4           scaler__transmission     0.410639    0.410639  Positive\n",
      "5              scaler__cylinders     0.084298    0.084298  Positive\n",
      "8                   scaler__type     0.029540    0.029540  Positive\n",
      "2               scaler__odometer    -0.000484    0.000484  Negative\n",
      "0                   scaler__year     0.000000    0.000000  Negative\n",
      "41  ohe__manufacturer_mitsubishi    -0.000000    0.000000  Negative\n",
      "31      ohe__manufacturer_jaguar     0.000000    0.000000  Negative\n",
      "32        ohe__manufacturer_jeep    -0.000000    0.000000  Negative\n",
      "33         ohe__manufacturer_kia    -0.000000    0.000000  Negative\n",
      "34  ohe__manufacturer_land rover    -0.000000    0.000000  Negative\n"
     ]
    }
   ],
   "source": [
    "coefficients = lasso_pipeline.named_steps['lasso'].coef_\n",
    "\n",
    "transformed_feature_names = lasso_pipeline.named_steps['preprocessing'].get_feature_names_out()\n",
    "\n",
    "importance_df = pd.DataFrame({\n",
    "    'Feature': transformed_feature_names,\n",
    "    'Coefficient': coefficients\n",
    "})\n",
    "\n",
    "importance_df['Importance'] = np.abs(importance_df['Coefficient'])\n",
    "importance_df['Impact'] = np.where(importance_df['Coefficient'] > 0, 'Positive', 'Negative')\n",
    "\n",
    "importance_df_sorted = importance_df.sort_values(by='Importance', ascending=False)\n",
    "\n",
    "# Display the top n most important features\n",
    "n = 10\n",
    "print(f\"Top {n} most important features based on LASSO regression:\")\n",
    "print(importance_df_sorted.head(n))"
   ]
  },
  {
   "cell_type": "markdown",
   "metadata": {},
   "source": [
    "### Lasso with numerical features"
   ]
  },
  {
   "cell_type": "code",
   "execution_count": 145,
   "metadata": {},
   "outputs": [],
   "source": [
    "train_mse_lasso_num, test_mse_lasso_num = joblib.load('data/mse_lassonum.pkl')\n",
    "lasso_pipeline_numerical = joblib.load('data/lassonum.pkl')"
   ]
  },
  {
   "cell_type": "code",
   "execution_count": 146,
   "metadata": {},
   "outputs": [
    {
     "name": "stdout",
     "output_type": "stream",
     "text": [
      "LASSO Train MSE: 7.12\n",
      "Train Baseline MSE: 7.41\n",
      "\n",
      "LASSO Test MSE: 7.03\n",
      "Test Baseline MSE:  7.32\n",
      "\n",
      "Train MSE diff:     0.29\n",
      "Test MSE diff:      0.29\n"
     ]
    }
   ],
   "source": [
    "print(f'LASSO Train MSE: {train_mse_lasso_num:.2f}')\n",
    "print(f'Train Baseline MSE: {mse_baseline_train:.2f}\\n')\n",
    "print(f'LASSO Test MSE: {test_mse_lasso_num:.2f}')\n",
    "print(f'Test Baseline MSE:  {mse_baseline_test:.2f}\\n')\n",
    "print(f'Train MSE diff:    {mse_baseline_train-train_mse_lasso_num: .2f}')\n",
    "print(f'Test MSE diff:     {mse_baseline_test-test_mse_lasso_num: .2f}')"
   ]
  },
  {
   "cell_type": "code",
   "execution_count": 147,
   "metadata": {},
   "outputs": [
    {
     "name": "stdout",
     "output_type": "stream",
     "text": [
      "Top 10 most important polynomial features based on LASSO regression:\n",
      "        Feature  Coefficient  Importance    Impact\n",
      "5  transmission     0.410639    0.410639  Positive\n",
      "6     cylinders     0.084298    0.084298  Positive\n",
      "9          type     0.029540    0.029540  Positive\n",
      "3      odometer    -0.000484    0.000484  Negative\n",
      "0             1     0.000000    0.000000  Negative\n",
      "1          year     0.000000    0.000000  Negative\n",
      "2          fuel     0.000000    0.000000  Negative\n",
      "4  title_status     0.000000    0.000000  Negative\n",
      "7     condition    -0.000000    0.000000  Negative\n",
      "8         drive    -0.000000    0.000000  Negative\n"
     ]
    }
   ],
   "source": [
    "poly_feature_names = lasso_pipeline_numerical.named_steps['poly'].get_feature_names_out(input_features=numerical_columns)\n",
    "\n",
    "coefficients = lasso_pipeline_numerical.named_steps['lasso'].coef_\n",
    "\n",
    "importance_df = pd.DataFrame({\n",
    "    'Feature': poly_feature_names,\n",
    "    'Coefficient': coefficients\n",
    "})\n",
    "\n",
    "importance_df['Importance'] = np.abs(importance_df['Coefficient'])\n",
    "importance_df['Impact'] = np.where(importance_df['Coefficient'] > 0, 'Positive', 'Negative')\n",
    "\n",
    "importance_df_sorted = importance_df.sort_values(by='Importance', ascending=False)\n",
    "\n",
    "# Display the top n most important features\n",
    "n = 10 \n",
    "print(f\"Top {n} most important polynomial features based on LASSO regression:\")\n",
    "print(importance_df_sorted.head(n))"
   ]
  },
  {
   "cell_type": "markdown",
   "metadata": {},
   "source": [
    "### Ridge with OHE manufacturer"
   ]
  },
  {
   "cell_type": "code",
   "execution_count": 149,
   "metadata": {},
   "outputs": [],
   "source": [
    "train_mse_ridge, test_mse_ridge = joblib.load('data/mse_ridge.pkl')\n",
    "ridge_pipeline = joblib.load('data/ridge.pkl')"
   ]
  },
  {
   "cell_type": "code",
   "execution_count": 150,
   "metadata": {},
   "outputs": [
    {
     "name": "stdout",
     "output_type": "stream",
     "text": [
      "Ridge Train MSE: 7.02\n",
      "Train Baseline MSE: 7.41\n",
      "\n",
      "Ridge Test MSE: 6.94\n",
      "Test Baseline MSE:  7.32\n",
      "\n",
      "Train MSE diff:     0.39\n",
      "Test MSE diff:      0.39\n"
     ]
    }
   ],
   "source": [
    "print(f'Ridge Train MSE: {train_mse_ridge:.2f}')\n",
    "print(f'Train Baseline MSE: {mse_baseline_train:.2f}\\n')\n",
    "print(f'Ridge Test MSE: {test_mse_ridge:.2f}')\n",
    "print(f'Test Baseline MSE:  {mse_baseline_test:.2f}\\n')\n",
    "print(f'Train MSE diff:    {mse_baseline_train-train_mse_ridge: .2f}')\n",
    "print(f'Test MSE diff:     {mse_baseline_test-test_mse_ridge: .2f}')"
   ]
  },
  {
   "cell_type": "code",
   "execution_count": 151,
   "metadata": {},
   "outputs": [
    {
     "name": "stdout",
     "output_type": "stream",
     "text": [
      "Top 10 most important features based on Ridge regression:\n",
      "                              Feature  Coefficient  Importance    Impact\n",
      "34       ohe__manufacturer_land rover    -4.609246    4.609246  Negative\n",
      "27  ohe__manufacturer_harley-davidson    -1.177442    1.177442  Negative\n",
      "39          ohe__manufacturer_mercury    -0.798646    0.798646  Negative\n",
      "22            ohe__manufacturer_dodge    -0.714754    0.714754  Negative\n",
      "33              ohe__manufacturer_kia    -0.609846    0.609846  Negative\n",
      "49            ohe__manufacturer_tesla    -0.542013    0.542013  Negative\n",
      "4                scaler__transmission     0.514594    0.514594  Positive\n",
      "29          ohe__manufacturer_hyundai    -0.488592    0.488592  Negative\n",
      "42           ohe__manufacturer_nissan    -0.477881    0.477881  Negative\n",
      "44          ohe__manufacturer_porsche     0.469427    0.469427  Positive\n"
     ]
    }
   ],
   "source": [
    "coefficients = ridge_pipeline.named_steps['ridge'].coef_\n",
    "\n",
    "transformed_feature_names = ridge_pipeline.named_steps['preprocessing'].get_feature_names_out()\n",
    "\n",
    "importance_df = pd.DataFrame({\n",
    "    'Feature': transformed_feature_names,\n",
    "    'Coefficient': coefficients\n",
    "})\n",
    "\n",
    "importance_df['Importance'] = np.abs(importance_df['Coefficient'])\n",
    "importance_df['Impact'] = np.where(importance_df['Coefficient'] > 0, 'Positive', 'Negative')\n",
    "\n",
    "importance_df_sorted = importance_df.sort_values(by='Importance', ascending=False)\n",
    "\n",
    "# Display the top n most important features\n",
    "n = 10  \n",
    "print(f\"Top {n} most important features based on Ridge regression:\")\n",
    "print(importance_df_sorted.head(n))"
   ]
  },
  {
   "cell_type": "markdown",
   "metadata": {},
   "source": [
    "### Ridge with numerical features"
   ]
  },
  {
   "cell_type": "code",
   "execution_count": 153,
   "metadata": {},
   "outputs": [],
   "source": [
    "train_mse_ridge_num, test_mse_ridge_num = joblib.load('data/mse_ridgenum.pkl')\n",
    "ridge_pipeline_numerical = joblib.load('data/ridgenum.pkl')"
   ]
  },
  {
   "cell_type": "code",
   "execution_count": 154,
   "metadata": {},
   "outputs": [
    {
     "name": "stdout",
     "output_type": "stream",
     "text": [
      "Ridge Train MSE: 7.06\n",
      "Train Baseline MSE: 7.41\n",
      "\n",
      "Ridge Test MSE: 6.97\n",
      "Test Baseline MSE:  7.32\n",
      "\n",
      "Train MSE diff:     0.35\n",
      "Test MSE diff:      0.35\n"
     ]
    }
   ],
   "source": [
    "print(f'Ridge Train MSE: {train_mse_ridge_num:.2f}')\n",
    "print(f'Train Baseline MSE: {mse_baseline_train:.2f}\\n')\n",
    "print(f'Ridge Test MSE: {test_mse_ridge_num:.2f}')\n",
    "print(f'Test Baseline MSE:  {mse_baseline_test:.2f}\\n')\n",
    "print(f'Train MSE diff:    {mse_baseline_train-train_mse_ridge_num: .2f}')\n",
    "print(f'Test MSE diff:     {mse_baseline_test-test_mse_ridge_num: .2f}')"
   ]
  },
  {
   "cell_type": "code",
   "execution_count": 155,
   "metadata": {},
   "outputs": [
    {
     "name": "stdout",
     "output_type": "stream",
     "text": [
      "Top 10 most important polynomial features based on Ridge regression:\n",
      "         Feature  Coefficient  Importance    Impact\n",
      "5   transmission     0.530937    0.530937  Positive\n",
      "13    region_lon     0.351926    0.351926  Positive\n",
      "11     state_lon    -0.323892    0.323892  Negative\n",
      "6      cylinders     0.159117    0.159117  Positive\n",
      "12    region_lat     0.156745    0.156745  Positive\n",
      "7      condition    -0.122996    0.122996  Negative\n",
      "9           type     0.095423    0.095423  Positive\n",
      "3       odometer    -0.084113    0.084113  Negative\n",
      "1           year     0.075176    0.075176  Positive\n",
      "10     state_lat    -0.050153    0.050153  Negative\n"
     ]
    }
   ],
   "source": [
    "poly_feature_names = ridge_pipeline_numerical.named_steps['poly'].get_feature_names_out(input_features=numerical_columns)\n",
    "\n",
    "coefficients = ridge_pipeline_numerical.named_steps['ridge'].coef_\n",
    "\n",
    "importance_df = pd.DataFrame({\n",
    "    'Feature': poly_feature_names,\n",
    "    'Coefficient': coefficients\n",
    "})\n",
    "\n",
    "importance_df['Importance'] = np.abs(importance_df['Coefficient'])\n",
    "importance_df['Impact'] = np.where(importance_df['Coefficient'] > 0, 'Positive', 'Negative')\n",
    "\n",
    "importance_df_sorted = importance_df.sort_values(by='Importance', ascending=False)\n",
    "\n",
    "# Display the top n most important features\n",
    "n = 10 \n",
    "print(f\"Top {n} most important polynomial features based on Ridge regression:\")\n",
    "print(importance_df_sorted.head(n))"
   ]
  },
  {
   "cell_type": "markdown",
   "metadata": {},
   "source": [
    "### GridSearch on Lasso and Ridge params"
   ]
  },
  {
   "cell_type": "code",
   "execution_count": 157,
   "metadata": {},
   "outputs": [],
   "source": [
    "train_mse_lassogrid, test_mse_lassogrid = joblib.load('data/mse_bestlasso.pkl')\n",
    "best_lasso = joblib.load('data/bestlasso.pkl')\n",
    "\n",
    "train_mse_ridgegrid, test_mse_ridgegrid = joblib.load('data/mse_bestridge.pkl')\n",
    "best_ridge = joblib.load('data/bestridge.pkl')"
   ]
  },
  {
   "cell_type": "code",
   "execution_count": 158,
   "metadata": {},
   "outputs": [
    {
     "name": "stdout",
     "output_type": "stream",
     "text": [
      "Lasso GridCV Train MSE:         7.06\n",
      "Baseline for training data: 7.41\n",
      "Lasso GridCV Test MSE:         6.97\n",
      "Baseline for testing data: 7.32\n",
      "\n",
      "Train MSE diff:    0.35\n",
      "Test MSE diff:     0.35\n"
     ]
    }
   ],
   "source": [
    "print(f'Lasso GridCV Train MSE:         {train_mse_lassogrid:.2f}')\n",
    "print(f'Baseline for training data: {mse_baseline_train:.2f}')\n",
    "print(f'Lasso GridCV Test MSE:         {test_mse_lassogrid:.2f}')\n",
    "print(f'Baseline for testing data: {mse_baseline_test:.2f}\\n')\n",
    "print(f'Train MSE diff:    {mse_baseline_train-train_mse_lassogrid:.2f}')\n",
    "print(f'Test MSE diff:     {mse_baseline_test-test_mse_lassogrid:.2f}')"
   ]
  },
  {
   "cell_type": "code",
   "execution_count": 159,
   "metadata": {},
   "outputs": [
    {
     "name": "stdout",
     "output_type": "stream",
     "text": [
      "Ridge GridCV Train MSE:         7.06\n",
      "Baseline for training data: 7.41\n",
      "Ridge GridCV Test MSE:         6.97\n",
      "Baseline for testing data: 7.32\n",
      "\n",
      "Train MSE diff:    0.35\n",
      "Test MSE diff:     0.35\n"
     ]
    }
   ],
   "source": [
    "print(f'Ridge GridCV Train MSE:         {train_mse_ridgegrid:.2f}')\n",
    "print(f'Baseline for training data: {mse_baseline_train:.2f}')\n",
    "print(f'Ridge GridCV Test MSE:         {test_mse_ridgegrid:.2f}')\n",
    "print(f'Baseline for testing data: {mse_baseline_test:.2f}\\n')\n",
    "print(f'Train MSE diff:    {mse_baseline_train-train_mse_ridgegrid:.2f}')\n",
    "print(f'Test MSE diff:     {mse_baseline_test-test_mse_ridgegrid:.2f}')"
   ]
  },
  {
   "cell_type": "code",
   "execution_count": 160,
   "metadata": {},
   "outputs": [
    {
     "name": "stdout",
     "output_type": "stream",
     "text": [
      "Number of transformed features: 14\n",
      "Number of coefficients: 14\n",
      "Top Lasso Features:\n",
      "         Feature  Coefficient  Importance    Impact\n",
      "5   transmission     0.514063    0.514063  Positive\n",
      "6      cylinders     0.153807    0.153807  Positive\n",
      "7      condition    -0.110400    0.110400  Negative\n",
      "12    region_lat     0.091137    0.091137  Positive\n",
      "9           type     0.082054    0.082054  Positive\n",
      "3       odometer    -0.075738    0.075738  Negative\n",
      "1           year     0.063803    0.063803  Positive\n",
      "4   title_status     0.029311    0.029311  Positive\n",
      "13    region_lon     0.020669    0.020669  Positive\n",
      "8          drive    -0.019261    0.019261  Negative\n",
      "\n",
      "Top Ridge Features:\n",
      "         Feature  Coefficient  Importance    Impact\n",
      "5   transmission     0.530937    0.530937  Positive\n",
      "13    region_lon     0.351926    0.351926  Positive\n",
      "11     state_lon    -0.323892    0.323892  Negative\n",
      "6      cylinders     0.159117    0.159117  Positive\n",
      "12    region_lat     0.156745    0.156745  Positive\n",
      "7      condition    -0.122996    0.122996  Negative\n",
      "9           type     0.095423    0.095423  Positive\n",
      "3       odometer    -0.084113    0.084113  Negative\n",
      "1           year     0.075176    0.075176  Positive\n",
      "10     state_lat    -0.050153    0.050153  Negative\n"
     ]
    }
   ],
   "source": [
    "lasso_coefficients = best_lasso.named_steps['lasso'].coef_\n",
    "ridge_coefficients = best_ridge.named_steps['ridge'].coef_\n",
    "\n",
    "transformed_feature_names = best_lasso.named_steps['poly'].get_feature_names_out(numerical_columns)\n",
    "\n",
    "print(f\"Number of transformed features: {len(transformed_feature_names)}\")\n",
    "print(f\"Number of coefficients: {len(lasso_coefficients)}\")\n",
    "\n",
    "if len(transformed_feature_names) == len(lasso_coefficients):\n",
    "    lasso_importance_df = pd.DataFrame({\n",
    "        'Feature': transformed_feature_names,\n",
    "        'Coefficient': lasso_coefficients\n",
    "    })\n",
    "\n",
    "    ridge_importance_df = pd.DataFrame({\n",
    "        'Feature': transformed_feature_names,\n",
    "        'Coefficient': ridge_coefficients\n",
    "    })\n",
    "\n",
    "    lasso_importance_df['Importance'] = np.abs(lasso_importance_df['Coefficient'])\n",
    "    lasso_importance_df['Impact'] = np.where(lasso_importance_df['Coefficient'] > 0, 'Positive', 'Negative')\n",
    "\n",
    "    ridge_importance_df['Importance'] = np.abs(ridge_importance_df['Coefficient'])\n",
    "    ridge_importance_df['Impact'] = np.where(ridge_importance_df['Coefficient'] > 0, 'Positive', 'Negative')\n",
    "\n",
    "    # Sort by importance and display top n most important features\n",
    "    n = 10\n",
    "    print(\"Top Lasso Features:\")\n",
    "    print(lasso_importance_df.sort_values(by='Importance', ascending=False).head(n))\n",
    "\n",
    "    print(\"\\nTop Ridge Features:\")\n",
    "    print(ridge_importance_df.sort_values(by='Importance', ascending=False).head(n))\n",
    "else:\n",
    "    print(\"Mismatch between the number of transformed features and coefficients.\")\n"
   ]
  },
  {
   "cell_type": "markdown",
   "metadata": {},
   "source": [
    "### Sequential Feature Selector"
   ]
  },
  {
   "cell_type": "code",
   "execution_count": 162,
   "metadata": {},
   "outputs": [],
   "source": [
    "train_mse_sfs, test_mse_sfs = joblib.load('data/mse_sfs.pkl')\n",
    "sequential_pipe = joblib.load('data/sfs.pkl')"
   ]
  },
  {
   "cell_type": "code",
   "execution_count": 163,
   "metadata": {},
   "outputs": [
    {
     "name": "stdout",
     "output_type": "stream",
     "text": [
      "Baseline for training data: 7.41\n",
      "SFS Train MSE:          7.07\n",
      "Baseline for testing data: 7.32\n",
      "SFS Test MSE:          6.98\n",
      "\n",
      "Train MSE diff:     0.34\n",
      "Test MSE diff:      0.34\n"
     ]
    }
   ],
   "source": [
    "print(f'Baseline for training data: {mse_baseline_train:.2f}')\n",
    "print(f'SFS Train MSE:         {train_mse_sfs: .2f}')\n",
    "print(f'Baseline for testing data: {mse_baseline_test:.2f}')\n",
    "print(f'SFS Test MSE:         {test_mse_sfs: .2f}\\n')\n",
    "print(f'Train MSE diff:    {mse_baseline_train-train_mse_sfs: .2f}')\n",
    "print(f'Test MSE diff:     {mse_baseline_test-test_mse_sfs: .2f}')"
   ]
  },
  {
   "cell_type": "code",
   "execution_count": 164,
   "metadata": {},
   "outputs": [
    {
     "name": "stdout",
     "output_type": "stream",
     "text": [
      "Selected Feature Indices: [ 2  4  5  6 11]\n",
      "Coefficients Shape: (5,)\n",
      "Number of coefficients: 5\n",
      "Selected feature indices: [ 2  4  5  6 11]\n",
      "Top 5 Selected Features:\n",
      "        Feature   Coefficient    Importance    Impact\n",
      "1  transmission  7.279279e-01  7.279279e-01  Positive\n",
      "2     cylinders  2.094657e-01  2.094657e-01  Positive\n",
      "3     condition -1.949108e-01  1.949108e-01  Negative\n",
      "4    region_lat  1.776449e-02  1.776449e-02  Positive\n",
      "0      odometer -4.951317e-07  4.951317e-07  Negative\n"
     ]
    }
   ],
   "source": [
    "coefficients = sequential_pipe.named_steps['linreg'].coef_\n",
    "\n",
    "poly_feature_names = sequential_pipe.named_steps['poly_features'].get_feature_names_out(Xnum_train.columns)\n",
    "\n",
    "selected_feature_indices = sequential_pipe.named_steps['selector'].get_support(indices=True)\n",
    "\n",
    "print(f\"Selected Feature Indices: {selected_feature_indices}\")\n",
    "print(f\"Coefficients Shape: {coefficients.shape}\")\n",
    "print(f\"Number of coefficients: {len(coefficients)}\")\n",
    "print(f\"Selected feature indices: {selected_feature_indices}\")\n",
    "\n",
    "if len(selected_feature_indices) != len(coefficients):\n",
    "    print(f\"Warning: Number of coefficients ({len(coefficients)}) does not match the number of selected features ({len(selected_feature_indices)}).\")\n",
    "\n",
    "selected_feature_names = poly_feature_names[selected_feature_indices]\n",
    "\n",
    "selected_coefficients = coefficients[:len(selected_feature_indices)]\n",
    "\n",
    "importance_df = pd.DataFrame({\n",
    "    'Feature': selected_feature_names,\n",
    "    'Coefficient': selected_coefficients\n",
    "})\n",
    "\n",
    "importance_df['Importance'] = np.abs(importance_df['Coefficient'])\n",
    "importance_df['Impact'] = np.where(importance_df['Coefficient'] > 0, 'Positive', 'Negative')\n",
    "\n",
    "importance_df_sorted = importance_df.sort_values(by='Importance', ascending=False)\n",
    "\n",
    "# Display the top n most important features\n",
    "n = 5 \n",
    "print(f\"Top {n} Selected Features:\")\n",
    "print(importance_df_sorted.head(n))\n",
    "    "
   ]
  }
 ],
 "metadata": {
  "kernelspec": {
   "display_name": "Python 3 (ipykernel)",
   "language": "python",
   "name": "python3"
  },
  "language_info": {
   "codemirror_mode": {
    "name": "ipython",
    "version": 3
   },
   "file_extension": ".py",
   "mimetype": "text/x-python",
   "name": "python",
   "nbconvert_exporter": "python",
   "pygments_lexer": "ipython3",
   "version": "3.11.7"
  },
  "widgets": {
   "application/vnd.jupyter.widget-state+json": {
    "state": {},
    "version_major": 2,
    "version_minor": 0
   }
  }
 },
 "nbformat": 4,
 "nbformat_minor": 4
}
